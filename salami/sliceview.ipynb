{
 "cells": [
  {
   "cell_type": "code",
   "execution_count": null,
   "metadata": {},
   "outputs": [],
   "source": [
    "%load_ext autoreload\n",
    "%autoreload 2"
   ]
  },
  {
   "cell_type": "code",
   "execution_count": null,
   "metadata": {},
   "outputs": [],
   "source": [
    "from fibsem import utils, acquire, movement, calibration\n",
    "from fibsem.structures import ImageSettings, BeamType\n",
    "from pprint import pprint\n",
    "import matplotlib.pyplot as plt\n",
    "from fibsem import milling\n",
    "import numpy as np\n"
   ]
  },
  {
   "cell_type": "code",
   "execution_count": null,
   "metadata": {},
   "outputs": [],
   "source": [
    "protocol_path = \"protocol/protocol.yaml\"\n",
    "microscope, settings = utils.setup_session(protocol_path=protocol_path, session_path= r\"D:\\cyril\\tin-balls-sweep\")"
   ]
  },
  {
   "cell_type": "code",
   "execution_count": null,
   "metadata": {},
   "outputs": [],
   "source": [
    "settings.image.save_path\n"
   ]
  },
  {
   "cell_type": "code",
   "execution_count": null,
   "metadata": {},
   "outputs": [],
   "source": [
    "# settings\n",
    "microscope.imaging.set_active_device(BeamType.ELECTRON.value)\n",
    "microscope.imaging.set_active_view(BeamType.ELECTRON.value)\n",
    "microscope.beams.electron_beam.optical_mode.value = \"Immersion\"\n",
    "microscope.detector.mode.value = \"BackscatterElectrons\"\n",
    "settings.system.stage.tilt_flat_to_electron = 0\n",
    "\n",
    "import numpy as np\n",
    "microscope.beams.electron_beam.angular_correction.angle.value = np.deg2rad(-38)\n",
    "\n",
    "# # LUT: inverse\n"
   ]
  },
  {
   "cell_type": "code",
   "execution_count": null,
   "metadata": {},
   "outputs": [],
   "source": [
    "from autoscript_sdb_microscope_client.enumerations import DetectorMode, DetectorType\n",
    "# microscope.detector.set_type_mode(type=DetectorType.ETD, mode = DetectorMode.BACKSCATTER_ELECTRONS)"
   ]
  },
  {
   "cell_type": "code",
   "execution_count": null,
   "metadata": {},
   "outputs": [],
   "source": [
    "from fibsem.structures import MicroscopeSettings\n",
    "from autoscript_sdb_microscope_client import SdbMicroscopeClient\n",
    "\n",
    "\n",
    "def run_data_collection(microscope: SdbMicroscopeClient, settings: MicroscopeSettings, dwell_times: list[float], step: int):\n",
    "    \n",
    "    settings.image.save = True\n",
    "    settings.image.autocontrast = False\n",
    "\n",
    "    for i, dwell_time in enumerate(dwell_times):\n",
    "\n",
    "        settings.image.dwell_time = dwell_time\n",
    "        print(f\"{i} - dwell_time: {dwell_time}\")\n",
    "\n",
    "        # take multiple short dwell time images\n",
    "        if dwell_time < 2e-6:\n",
    "            for j in range(7):\n",
    "                settings.image.label = f\"EB_{step}_{dwell_time}_{j}\"\n",
    "                print(i, j, dwell_time, settings.image.label)\n",
    "                acquire.new_image(microscope, settings.image)\n",
    "        else:\n",
    "            settings.image.label = f\"EB_{step}_{dwell_time}_0\"\n",
    "            print(i, 0, dwell_time, settings.image.label)\n",
    "            # take a single high dwell time\n",
    "            acquire.new_image(microscope, settings.image)\n",
    "        \n",
    "        print(\"-\"*50)"
   ]
  },
  {
   "cell_type": "code",
   "execution_count": null,
   "metadata": {},
   "outputs": [],
   "source": []
  },
  {
   "cell_type": "code",
   "execution_count": null,
   "metadata": {},
   "outputs": [],
   "source": [
    "\n",
    "# start wiith cleaning cross section to clean the area\n",
    "centre_x = 0\n",
    "centre_y = 0\n",
    "width = 40e-6\n",
    "height = 2.5e-6\n",
    "depth = 10e-6\n",
    "\n",
    "microscope.imaging.set_active_view(BeamType.ION.value)\n",
    "microscope.imaging.set_active_device(BeamType.ION.value)\n",
    "microscope.patterning.clear_patterns()\n",
    "\n",
    "pattern = microscope.patterning.create_cleaning_cross_section(center_x=centre_x, center_y=centre_y, width=width, height=height, depth=depth)\n",
    "pattern.scan_direction = \"BottomToTop\""
   ]
  },
  {
   "cell_type": "code",
   "execution_count": null,
   "metadata": {},
   "outputs": [],
   "source": [
    "# settings\n",
    "microscope.imaging.set_active_device(BeamType.ELECTRON.value)\n",
    "microscope.imaging.set_active_view(BeamType.ELECTRON.value)\n",
    "microscope.detector.contrast.limits"
   ]
  },
  {
   "cell_type": "code",
   "execution_count": null,
   "metadata": {},
   "outputs": [],
   "source": [
    "state = calibration.get_current_microscope_state(microscope)\n",
    "# detector contrast brightness\n",
    "microscope.imaging.set_active_device(BeamType.ELECTRON.value)\n",
    "microscope.imaging.set_active_view(BeamType.ELECTRON.value)\n",
    "contrast = microscope.detector.contrast.value\n",
    "brightness = microscope.detector.brightness.value"
   ]
  },
  {
   "cell_type": "code",
   "execution_count": null,
   "metadata": {},
   "outputs": [],
   "source": [
    "start_x, end_x = -8e-6, 33e-6\n",
    "start_y, end_y = -4e-6, -4e-6\n",
    "depth = 8e-6\n",
    "offset = 5e-9\n",
    "\n",
    "\n",
    "N_SLICES = 500\n",
    "START_IDX = 22\n",
    "# for i in range(START_IDX, N_SLICES):\n",
    "\n",
    "microscope.imaging.set_active_view(BeamType.ION.value)\n",
    "microscope.imaging.set_active_device(BeamType.ION.value)\n",
    "microscope.patterning.clear_patterns()\n",
    "pattern = microscope.patterning.create_line(start_x=start_x, start_y=start_y, end_x=end_x, end_y=end_y, depth=depth)\n",
    "print(pattern)"
   ]
  },
  {
   "cell_type": "code",
   "execution_count": null,
   "metadata": {},
   "outputs": [],
   "source": [
    "\n",
    "settings.image.hfw = 30e-6\n",
    "settings.image.resolution = \"6144x4096\"\n",
    "dwell_times = [0.5e-6, 1e-6, 3e-6, 5e-6, 8e-6, 20e-6]\n",
    "settings.image.save = True\n",
    "settings.image.autocontrast = False\n",
    "settings.image.gamma.enabled = False\n",
    "\n",
    "start_x, end_x = -8e-6, 33e-6\n",
    "start_y, end_y = -4e-6, -4e-6\n",
    "depth = 8e-6\n",
    "offset = 5e-9\n",
    "\n",
    "N_SLICES = 500\n",
    "START_IDX = 0\n",
    "for i in range(START_IDX, N_SLICES):\n",
    "\n",
    "    print(f\" ---------------- SLICE {i}/{N_SLICES} ---------------- \")\n",
    "    \n",
    "    settings.image.dwell_time = 0.2e-6\n",
    "    settings.image.save = False\n",
    "    # slice\n",
    "    if i > START_IDX:\n",
    "        microscope.imaging.set_active_view(BeamType.ION.value)\n",
    "        microscope.imaging.set_active_device(BeamType.ION.value)\n",
    "        microscope.patterning.clear_patterns()\n",
    "        pattern = microscope.patterning.create_line(start_x=start_x, start_y=start_y, end_x=end_x, end_y=end_y, depth=depth)\n",
    "        print(pattern)\n",
    "\n",
    "        # run\n",
    "        milling.run_milling(microscope, milling_current=5.6e-9)\n",
    "    \n",
    "    # view\n",
    "    calibration.auto_discharge_beam(microscope, settings.image, n_iterations=5)\n",
    "\n",
    "    settings.image.autocontrast = False\n",
    "    run_data_collection(microscope, settings, dwell_times, i)\n",
    "\n",
    "    start_y += offset\n",
    "    end_y  += offset\n",
    "    \n",
    "    # manually adjust working distance\n",
    "    wd_diff = offset * np.sin(np.deg2rad(38))\n",
    "    microscope.beams.electron_beam.working_distance.value -= wd_diff #4e-3# 3.995e-3 \n",
    "\n",
    "    if i % 50 == 0 and i != START_IDX:\n",
    "        acquire.autocontrast(microscope, BeamType.ELECTRON)\n"
   ]
  },
  {
   "cell_type": "code",
   "execution_count": null,
   "metadata": {},
   "outputs": [],
   "source": [
    "# microscope.auto_functions.run_auto_focus()\n",
    "from autoscript_sdb_microscope_client.structures import RunAutoFocusSettings\n",
    "\n",
    "focus_settings = RunAutoFocusSettings()\n",
    "\n",
    "microscope.imaging.set_active_view(BeamType.ELECTRON.value)\n",
    "microscope.imaging.set_active_device(BeamType.ELECTRON.value)\n",
    "microscope.auto_functions.run_auto_focus()\n",
    "microscope.specimen.stage.link()\n",
    "\n",
    "\n",
    "# microscope.auto_functions.run_auto_stigmator()"
   ]
  },
  {
   "cell_type": "code",
   "execution_count": null,
   "metadata": {},
   "outputs": [],
   "source": [
    "settings.image.hfw = 30e-6\n",
    "settings.image.resolution = \"6144x4096\"\n",
    "dwell_times = [0.3e-6, 0.5e-6, 1e-6, 3e-6, 5e-6, 8e-6]\n",
    "settings.image.save = True\n",
    "settings.image.autocontrast = True\n",
    "settings.image.gamma.enabled = False\n",
    "settings.image.dwell_time = 0.5e-6\n",
    "settings.image.label = \"4um\"\n",
    "microscope.beams.electron_beam.working_distance.value = 4e-3# 3.995e-3 \n",
    "acquire.new_image(microscope, settings.image)"
   ]
  },
  {
   "cell_type": "code",
   "execution_count": null,
   "metadata": {},
   "outputs": [],
   "source": [
    "# # dynamic focus : 38\n",
    "\n",
    "# 4e-3 - (1000*5e-9)"
   ]
  },
  {
   "cell_type": "code",
   "execution_count": null,
   "metadata": {},
   "outputs": [],
   "source": [
    "settings.image.save_path"
   ]
  },
  {
   "cell_type": "code",
   "execution_count": null,
   "metadata": {},
   "outputs": [],
   "source": [
    "# multichem / GIS query"
   ]
  },
  {
   "cell_type": "markdown",
   "metadata": {},
   "source": [
    "## Tin Ball Data Collection\n"
   ]
  },
  {
   "cell_type": "code",
   "execution_count": null,
   "metadata": {},
   "outputs": [],
   "source": [
    "%load_ext autoreload\n",
    "%autoreload 2\n",
    "\n",
    "from fibsem import utils, acquire, movement, calibration\n",
    "from fibsem.structures import ImageSettings, BeamType\n",
    "from pprint import pprint\n",
    "import matplotlib.pyplot as plt\n",
    "from fibsem import milling\n",
    "import numpy as np\n",
    "from copy import deepcopy\n",
    "import pandas as pd\n",
    "import os\n",
    "\n",
    "\n",
    "protocol_path = r\"C:\\Users\\Admin\\Github\\fibsem\\example\\protocol\\protocol.yaml\"\n",
    "microscope, settings = utils.setup_session(protocol_path=protocol_path, session_path= r\"D:\\cyril\\tin-balls-sweep\")"
   ]
  },
  {
   "cell_type": "code",
   "execution_count": null,
   "metadata": {},
   "outputs": [],
   "source": [
    "# settings\n",
    "microscope.imaging.set_active_device(BeamType.ELECTRON.value)\n",
    "microscope.imaging.set_active_view(BeamType.ELECTRON.value)\n",
    "microscope.beams.electron_beam.optical_mode.value = \"Immersion\"\n",
    "microscope.detector.mode.value = \"BackscatterElectrons\"\n",
    "settings.system.stage.tilt_flat_to_electron = 0\n",
    "\n",
    "\n",
    "# microscope.beams.electron_beam.angular_correction.angle.value = np.deg2rad(-38)\n",
    "\n",
    "# 1kv voltage\n",
    "\n",
    "# # LUT: inverse\n"
   ]
  },
  {
   "cell_type": "code",
   "execution_count": null,
   "metadata": {},
   "outputs": [],
   "source": [
    "settings.image.save_path"
   ]
  },
  {
   "cell_type": "code",
   "execution_count": null,
   "metadata": {},
   "outputs": [],
   "source": [
    "# pixelsize (nm), # pixelsize = hfw/n_pixels_x\n",
    "# hfws\n",
    "n_pixels_x = 3072 \n",
    "pixel_size = np.array([1, 2, 3, 4, 5, 6, 8, 10, 12, 14, 16, 18, 20])\n",
    "hfws = pixel_size * n_pixels_x * 1e-9 # nm\n",
    "\n",
    "print(hfws)"
   ]
  },
  {
   "cell_type": "code",
   "execution_count": null,
   "metadata": {},
   "outputs": [],
   "source": [
    "# beam current, resolution, dwell time\n",
    "voltages = [2e3]\n",
    "# beam_currents = [50e-12, 0.1e-9,  0.2e-9, 0.4e-9, 0.8e-9] \n",
    "beam_currents = [3.2e-9]\n",
    "dwell_times = [2e-6]\n",
    "resolution = \"3072x2048\"\n",
    "\n",
    "settings.image.resolution = resolution\n",
    "settings.image.autocontrast = False\n",
    "settings.image.gamma.enabled = False\n",
    "settings.image.save = True\n",
    "\n",
    "N_IMAGES = 1\n",
    "\n",
    "counter = 0\n",
    "all_params = []\n",
    "for m, voltage in enumerate(voltages):\n",
    "    microscope.beams.electron_beam.high_voltage.value = voltage\n",
    "    for i, beam_current in enumerate(beam_currents):\n",
    "\n",
    "        # change beam current\n",
    "        microscope.beams.electron_beam.beam_current.value = beam_current\n",
    "        # microscope.auto_functions.run_auto_stigmator()\n",
    "        # microscope.auto_functions.run_auto_focus()\n",
    "        # calibration.auto_discharge_beam(microscope, settings.image)\n",
    "        input(\"confirm beam focus / stigmation\")\n",
    "\n",
    "        for j, hfw in enumerate(hfws):\n",
    "\n",
    "            acquire.autocontrast(microscope, BeamType.ELECTRON)\n",
    "\n",
    "            for k, dwell_time in enumerate(dwell_times):\n",
    "                \n",
    "                for n in range(N_IMAGES):\n",
    "\n",
    "                    # set image settings\n",
    "                    label = f\"{counter:02d}_sweep_{m}_{i}_{j}_{k}_{n}_{voltage:.2e}_{beam_current:.2e}_{hfw:.2e}_{dwell_time:.2e}\"\n",
    "                    settings.image.hfw = hfw\n",
    "                    settings.image.dwell_time = dwell_time\n",
    "                    settings.image.label = label\n",
    "\n",
    "                    pprint(settings.image.label)\n",
    "\n",
    "                    params = {\"voltage\": voltage, \n",
    "                        \"beam_current\": beam_current,\n",
    "                        \"hfw\": hfw,\n",
    "                        \"dwell_time\": dwell_time,\n",
    "                        \"n_image\": n,\n",
    "                        \"label\": label,\n",
    "                        \"count\": counter,\n",
    "                        }\n",
    "\n",
    "                    all_params.append(deepcopy(params))\n",
    "\n",
    "                    image = acquire.new_image(microscope, settings.image)\n",
    "                    counter+=1 \n",
    "    \n",
    "# save data\n",
    "df = pd.DataFrame.from_dict(all_params)\n",
    "df.to_csv(os.path.join(settings.image.save_path, \"data.csv\"))\n",
    "display(df)\n",
    "\n",
    "# image_count.sweep.m.i.j.k.n.voltage.beam_current.hfw.dwell_time\n"
   ]
  },
  {
   "cell_type": "code",
   "execution_count": null,
   "metadata": {},
   "outputs": [],
   "source": []
  },
  {
   "cell_type": "code",
   "execution_count": null,
   "metadata": {},
   "outputs": [],
   "source": []
  }
 ],
 "metadata": {
  "kernelspec": {
   "display_name": "Python 3.10.6 64-bit",
   "language": "python",
   "name": "python3"
  },
  "language_info": {
   "codemirror_mode": {
    "name": "ipython",
    "version": 3
   },
   "file_extension": ".py",
   "mimetype": "text/x-python",
   "name": "python",
   "nbconvert_exporter": "python",
   "pygments_lexer": "ipython3",
   "version": "3.10.6"
  },
  "orig_nbformat": 4,
  "vscode": {
   "interpreter": {
    "hash": "916dbcbb3f70747c44a77c7bcd40155683ae19c65e1c03b4aa3499c5328201f1"
   }
  }
 },
 "nbformat": 4,
 "nbformat_minor": 2
}
