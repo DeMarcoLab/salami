{
 "cells": [
  {
   "cell_type": "code",
   "execution_count": null,
   "metadata": {},
   "outputs": [],
   "source": [
    "%load_ext autoreload\n",
    "%autoreload 2"
   ]
  },
  {
   "cell_type": "code",
   "execution_count": null,
   "metadata": {},
   "outputs": [],
   "source": [
    "from fibsem import utils, acquire, movement, calibration\n",
    "from fibsem.structures import ImageSettings, BeamType\n",
    "from pprint import pprint\n",
    "import matplotlib.pyplot as plt\n",
    "from fibsem import milling\n",
    "import numpy as np\n"
   ]
  },
  {
   "cell_type": "code",
   "execution_count": null,
   "metadata": {},
   "outputs": [],
   "source": [
    "protocol_path = \"protocol/protocol.yaml\"\n",
    "microscope, settings = utils.setup_session(protocol_path=protocol_path, session_path= r\"D:\\cyril\\tin-balls-sweep\")"
   ]
  },
  {
   "cell_type": "code",
   "execution_count": null,
   "metadata": {},
   "outputs": [],
   "source": [
    "settings.image.save_path\n"
   ]
  },
  {
   "cell_type": "code",
   "execution_count": null,
   "metadata": {},
   "outputs": [],
   "source": [
    "# settings\n",
    "microscope.imaging.set_active_device(BeamType.ELECTRON.value)\n",
    "microscope.imaging.set_active_view(BeamType.ELECTRON.value)\n",
    "microscope.beams.electron_beam.optical_mode.value = \"Immersion\"\n",
    "microscope.detector.mode.value = \"BackscatterElectrons\"\n",
    "settings.system.stage.tilt_flat_to_electron = 0\n",
    "\n",
    "# UC ON\n",
    "\n",
    "import numpy as np\n",
    "microscope.beams.electron_beam.angular_correction.angle.value = np.deg2rad(-38)\n",
    "\n",
    "# # LUT: inverse\n"
   ]
  },
  {
   "cell_type": "code",
   "execution_count": null,
   "metadata": {},
   "outputs": [],
   "source": [
    "from autoscript_sdb_microscope_client.enumerations import DetectorMode, DetectorType\n",
    "# microscope.detector.set_type_mode(type=DetectorType.ETD, mode = DetectorMode.BACKSCATTER_ELECTRONS)"
   ]
  },
  {
   "cell_type": "code",
   "execution_count": null,
   "metadata": {},
   "outputs": [],
   "source": [
    "from fibsem.structures import MicroscopeSettings\n",
    "from autoscript_sdb_microscope_client import SdbMicroscopeClient\n",
    "\n",
    "\n",
    "def run_data_collection(microscope: SdbMicroscopeClient, settings: MicroscopeSettings, dwell_times: list[float], step: int):\n",
    "    \n",
    "    settings.image.save = True\n",
    "    settings.image.autocontrast = False\n",
    "\n",
    "    for i, dwell_time in enumerate(dwell_times):\n",
    "\n",
    "        settings.image.dwell_time = dwell_time\n",
    "        print(f\"{i} - dwell_time: {dwell_time}\")\n",
    "\n",
    "        # take multiple short dwell time images\n",
    "        if dwell_time < 2e-6:\n",
    "            for j in range(7):\n",
    "                settings.image.label = f\"EB_{step}_{dwell_time}_{j}\"\n",
    "                print(i, j, dwell_time, settings.image.label)\n",
    "                acquire.new_image(microscope, settings.image)\n",
    "        else:\n",
    "            settings.image.label = f\"EB_{step}_{dwell_time}_0\"\n",
    "            print(i, 0, dwell_time, settings.image.label)\n",
    "            # take a single high dwell time\n",
    "            acquire.new_image(microscope, settings.image)\n",
    "        \n",
    "        print(\"-\"*50)"
   ]
  },
  {
   "cell_type": "code",
   "execution_count": null,
   "metadata": {},
   "outputs": [],
   "source": []
  },
  {
   "cell_type": "code",
   "execution_count": 14,
   "metadata": {},
   "outputs": [
    {
     "name": "stdout",
     "output_type": "stream",
     "text": [
      "Client lost connection to server\n",
      "Client is trying to recover connection...\n",
      "Client successfully recovered connection to server\n"
     ]
    }
   ],
   "source": [
    "\n",
    "# start wiith cleaning cross section to clean the area\n",
    "centre_x = 0\n",
    "centre_y = 0\n",
    "width = 40e-6\n",
    "height = 2.5e-6\n",
    "depth = 10e-6\n",
    "\n",
    "microscope.imaging.set_active_view(BeamType.ION.value)\n",
    "microscope.imaging.set_active_device(BeamType.ION.value)\n",
    "microscope.patterning.clear_patterns()\n",
    "\n",
    "pattern = microscope.patterning.create_cleaning_cross_section(center_x=centre_x, center_y=centre_y, width=width, height=height, depth=depth)\n",
    "pattern.scan_direction = \"BottomToTop\""
   ]
  },
  {
   "cell_type": "code",
   "execution_count": null,
   "metadata": {},
   "outputs": [],
   "source": [
    "# settings\n",
    "microscope.imaging.set_active_device(BeamType.ELECTRON.value)\n",
    "microscope.imaging.set_active_view(BeamType.ELECTRON.value)\n",
    "microscope.detector.contrast.limits"
   ]
  },
  {
   "cell_type": "code",
   "execution_count": null,
   "metadata": {},
   "outputs": [],
   "source": [
    "state = calibration.get_current_microscope_state(microscope)\n",
    "# detector contrast brightness\n",
    "microscope.imaging.set_active_device(BeamType.ELECTRON.value)\n",
    "microscope.imaging.set_active_view(BeamType.ELECTRON.value)\n",
    "contrast = microscope.detector.contrast.value\n",
    "brightness = microscope.detector.brightness.value"
   ]
  },
  {
   "cell_type": "code",
   "execution_count": null,
   "metadata": {},
   "outputs": [],
   "source": [
    "start_x, end_x = -8e-6, 33e-6\n",
    "start_y, end_y = -4e-6, -4e-6\n",
    "depth = 8e-6\n",
    "offset = 5e-9\n",
    "\n",
    "\n",
    "N_SLICES = 500\n",
    "START_IDX = 22\n",
    "# for i in range(START_IDX, N_SLICES):\n",
    "\n",
    "microscope.imaging.set_active_view(BeamType.ION.value)\n",
    "microscope.imaging.set_active_device(BeamType.ION.value)\n",
    "microscope.patterning.clear_patterns()\n",
    "pattern = microscope.patterning.create_line(start_x=start_x, start_y=start_y, end_x=end_x, end_y=end_y, depth=depth)\n",
    "print(pattern)"
   ]
  },
  {
   "cell_type": "code",
   "execution_count": null,
   "metadata": {},
   "outputs": [],
   "source": [
    "\n",
    "settings.image.hfw = 30e-6\n",
    "settings.image.resolution = \"6144x4096\"\n",
    "dwell_times = [0.5e-6, 1e-6, 3e-6, 5e-6, 8e-6, 20e-6]\n",
    "settings.image.save = True\n",
    "settings.image.autocontrast = False\n",
    "settings.image.gamma.enabled = False\n",
    "\n",
    "start_x, end_x = -8e-6, 33e-6\n",
    "start_y, end_y = -4e-6, -4e-6\n",
    "depth = 8e-6\n",
    "offset = 5e-9\n",
    "\n",
    "N_SLICES = 500\n",
    "START_IDX = 0\n",
    "for i in range(START_IDX, N_SLICES):\n",
    "\n",
    "    print(f\" ---------------- SLICE {i}/{N_SLICES} ---------------- \")\n",
    "    \n",
    "    settings.image.dwell_time = 0.2e-6\n",
    "    settings.image.save = False\n",
    "    # slice\n",
    "    if i > START_IDX:\n",
    "        microscope.imaging.set_active_view(BeamType.ION.value)\n",
    "        microscope.imaging.set_active_device(BeamType.ION.value)\n",
    "        microscope.patterning.clear_patterns()\n",
    "        pattern = microscope.patterning.create_line(start_x=start_x, start_y=start_y, end_x=end_x, end_y=end_y, depth=depth)\n",
    "        print(pattern)\n",
    "\n",
    "        # run\n",
    "        milling.run_milling(microscope, milling_current=5.6e-9)\n",
    "    \n",
    "    # view\n",
    "    calibration.auto_discharge_beam(microscope, settings.image, n_iterations=5)\n",
    "\n",
    "    settings.image.autocontrast = False\n",
    "    run_data_collection(microscope, settings, dwell_times, i)\n",
    "\n",
    "    start_y += offset\n",
    "    end_y  += offset\n",
    "    \n",
    "    # manually adjust working distance\n",
    "    wd_diff = offset * np.sin(np.deg2rad(38))\n",
    "    microscope.beams.electron_beam.working_distance.value -= wd_diff #4e-3# 3.995e-3 \n",
    "\n",
    "    if i % 50 == 0 and i != START_IDX:\n",
    "        acquire.autocontrast(microscope, BeamType.ELECTRON)\n"
   ]
  },
  {
   "cell_type": "code",
   "execution_count": null,
   "metadata": {},
   "outputs": [],
   "source": [
    "# microscope.auto_functions.run_auto_focus()\n",
    "from autoscript_sdb_microscope_client.structures import RunAutoFocusSettings\n",
    "\n",
    "focus_settings = RunAutoFocusSettings()\n",
    "\n",
    "microscope.imaging.set_active_view(BeamType.ELECTRON.value)\n",
    "microscope.imaging.set_active_device(BeamType.ELECTRON.value)\n",
    "microscope.auto_functions.run_auto_focus()\n",
    "microscope.specimen.stage.link()\n",
    "\n",
    "\n",
    "# microscope.auto_functions.run_auto_stigmator()"
   ]
  },
  {
   "cell_type": "code",
   "execution_count": null,
   "metadata": {},
   "outputs": [],
   "source": [
    "settings.image.hfw = 30e-6\n",
    "settings.image.resolution = \"6144x4096\"\n",
    "dwell_times = [0.3e-6, 0.5e-6, 1e-6, 3e-6, 5e-6, 8e-6]\n",
    "settings.image.save = True\n",
    "settings.image.autocontrast = True\n",
    "settings.image.gamma.enabled = False\n",
    "settings.image.dwell_time = 0.5e-6\n",
    "settings.image.label = \"4um\"\n",
    "microscope.beams.electron_beam.working_distance.value = 4e-3# 3.995e-3 \n",
    "acquire.new_image(microscope, settings.image)"
   ]
  },
  {
   "cell_type": "code",
   "execution_count": null,
   "metadata": {},
   "outputs": [],
   "source": [
    "# # dynamic focus : 38\n",
    "\n",
    "# 4e-3 - (1000*5e-9)"
   ]
  },
  {
   "cell_type": "code",
   "execution_count": null,
   "metadata": {},
   "outputs": [],
   "source": [
    "settings.image.save_path"
   ]
  },
  {
   "cell_type": "code",
   "execution_count": null,
   "metadata": {},
   "outputs": [],
   "source": [
    "# multichem / GIS query"
   ]
  },
  {
   "cell_type": "markdown",
   "metadata": {},
   "source": [
    "## Tin Ball Data Collection\n"
   ]
  },
  {
   "cell_type": "code",
   "execution_count": 2,
   "metadata": {},
   "outputs": [
    {
     "name": "stderr",
     "output_type": "stream",
     "text": [
      "2022-10-28 14:39:02,932 — root — INFO — connect_to_microscope:31 — Microscope client connecting to [10.0.0.1]\n",
      "2022-10-28 14:39:02,942 — root — INFO — connect_to_microscope:34 — Microscope client connected to [10.0.0.1]\n",
      "2022-10-28 14:39:02,943 — root — INFO — setup_session:263 — Finished setup for session: slice-and-view-cyril_2022-10-28.02-39-02PM\n"
     ]
    },
    {
     "name": "stdout",
     "output_type": "stream",
     "text": [
      "The autoreload extension is already loaded. To reload it, use:\n",
      "  %reload_ext autoreload\n",
      "Client connecting to [10.0.0.1:7520]...\n",
      "Client connected to [10.0.0.1:7520]\n"
     ]
    }
   ],
   "source": [
    "%load_ext autoreload\n",
    "%autoreload 2\n",
    "\n",
    "from fibsem import utils, acquire, movement, calibration\n",
    "from fibsem.structures import ImageSettings, BeamType\n",
    "from pprint import pprint\n",
    "import matplotlib.pyplot as plt\n",
    "from fibsem import milling\n",
    "import numpy as np\n",
    "from copy import deepcopy\n",
    "import pandas as pd\n",
    "import os\n",
    "\n",
    "\n",
    "protocol_path = r\"C:\\Users\\Admin\\Github\\salami/salami/protocol\\protocol.yaml\"\n",
    "microscope, settings = utils.setup_session(protocol_path=protocol_path, session_path= r\"D:\\cyril\\tin-balls-sweep\\20221028\")"
   ]
  },
  {
   "cell_type": "code",
   "execution_count": 4,
   "metadata": {},
   "outputs": [],
   "source": [
    "# settings\n",
    "microscope.imaging.set_active_device(BeamType.ELECTRON.value)\n",
    "microscope.imaging.set_active_view(BeamType.ELECTRON.value)\n",
    "microscope.beams.electron_beam.optical_mode.value = \"Immersion\"\n",
    "microscope.detector.mode.value = \"BackscatterElectrons\"\n",
    "settings.system.stage.tilt_flat_to_electron = 0\n",
    "\n",
    "microscope.beams.electron_beam.angular_correction.angle.value = np.deg2rad(-38)\n",
    "microscope.beams.electron_beam.angular_correction.tilt_correction.turn_on\n",
    "\n",
    "# 1kv voltage\n",
    "\n",
    "# # LUT: inverse\n"
   ]
  },
  {
   "cell_type": "code",
   "execution_count": 6,
   "metadata": {},
   "outputs": [
    {
     "data": {
      "text/plain": [
       "'D:\\\\cyril\\\\tin-balls-sweep\\\\20221028'"
      ]
     },
     "execution_count": 6,
     "metadata": {},
     "output_type": "execute_result"
    }
   ],
   "source": [
    "settings.image.save_path"
   ]
  },
  {
   "cell_type": "code",
   "execution_count": 15,
   "metadata": {},
   "outputs": [
    {
     "data": {
      "text/plain": [
       "'Manual'"
      ]
     },
     "execution_count": 15,
     "metadata": {},
     "output_type": "execute_result"
    }
   ],
   "source": []
  },
  {
   "cell_type": "code",
   "execution_count": 3,
   "metadata": {},
   "outputs": [
    {
     "name": "stdout",
     "output_type": "stream",
     "text": [
      "[3.0720e-06 6.1440e-06 9.2160e-06 1.2288e-05 1.5360e-05 1.8432e-05\n",
      " 2.4576e-05 3.0720e-05 3.6864e-05 4.3008e-05 4.9152e-05 5.5296e-05\n",
      " 6.1440e-05]\n"
     ]
    }
   ],
   "source": [
    "# pixelsize (nm), # pixelsize = hfw/n_pixels_x\n",
    "# hfws\n",
    "n_pixels_x = 3072 \n",
    "pixel_size = np.array([1, 2, 3, 4, 5, 6, 8, 10, 12, 14, 16, 18, 20])\n",
    "hfws = pixel_size * n_pixels_x * 1e-9 # nm\n",
    "\n",
    "print(hfws)"
   ]
  },
  {
   "cell_type": "code",
   "execution_count": 23,
   "metadata": {},
   "outputs": [
    {
     "name": "stdout",
     "output_type": "stream",
     "text": [
      "Client lost connection to server\n",
      "Client is trying to recover connection...\n",
      "Client successfully recovered connection to server\n"
     ]
    },
    {
     "name": "stderr",
     "output_type": "stream",
     "text": [
      "2022-10-28 16:28:02,982 — root — INFO — autocontrast:27 — automatically adjusting contrast...\n",
      "2022-10-28 16:28:03,477 — root — INFO — acquire_image:186 — acquiring new ELECTRON image.\n"
     ]
    },
    {
     "name": "stdout",
     "output_type": "stream",
     "text": [
      "'65_sweep_1.00e+03_8.00e-10_3.07e-06_2.00e-06'\n"
     ]
    },
    {
     "name": "stderr",
     "output_type": "stream",
     "text": [
      "2022-10-28 16:28:17,036 — root — INFO — autocontrast:27 — automatically adjusting contrast...\n",
      "2022-10-28 16:28:17,876 — root — INFO — acquire_image:186 — acquiring new ELECTRON image.\n"
     ]
    },
    {
     "name": "stdout",
     "output_type": "stream",
     "text": [
      "'66_sweep_1.00e+03_8.00e-10_6.14e-06_2.00e-06'\n"
     ]
    },
    {
     "name": "stderr",
     "output_type": "stream",
     "text": [
      "2022-10-28 16:28:31,376 — root — INFO — autocontrast:27 — automatically adjusting contrast...\n",
      "2022-10-28 16:28:32,191 — root — INFO — acquire_image:186 — acquiring new ELECTRON image.\n"
     ]
    },
    {
     "name": "stdout",
     "output_type": "stream",
     "text": [
      "'67_sweep_1.00e+03_8.00e-10_9.22e-06_2.00e-06'\n"
     ]
    },
    {
     "name": "stderr",
     "output_type": "stream",
     "text": [
      "2022-10-28 16:28:45,688 — root — INFO — autocontrast:27 — automatically adjusting contrast...\n",
      "2022-10-28 16:28:46,425 — root — INFO — acquire_image:186 — acquiring new ELECTRON image.\n"
     ]
    },
    {
     "name": "stdout",
     "output_type": "stream",
     "text": [
      "'68_sweep_1.00e+03_8.00e-10_1.23e-05_2.00e-06'\n"
     ]
    },
    {
     "name": "stderr",
     "output_type": "stream",
     "text": [
      "2022-10-28 16:28:59,882 — root — INFO — autocontrast:27 — automatically adjusting contrast...\n",
      "2022-10-28 16:29:00,731 — root — INFO — acquire_image:186 — acquiring new ELECTRON image.\n"
     ]
    },
    {
     "name": "stdout",
     "output_type": "stream",
     "text": [
      "'69_sweep_1.00e+03_8.00e-10_1.54e-05_2.00e-06'\n"
     ]
    },
    {
     "name": "stderr",
     "output_type": "stream",
     "text": [
      "2022-10-28 16:29:14,170 — root — INFO — autocontrast:27 — automatically adjusting contrast...\n",
      "2022-10-28 16:29:14,959 — root — INFO — acquire_image:186 — acquiring new ELECTRON image.\n"
     ]
    },
    {
     "name": "stdout",
     "output_type": "stream",
     "text": [
      "'70_sweep_1.00e+03_8.00e-10_1.84e-05_2.00e-06'\n"
     ]
    },
    {
     "name": "stderr",
     "output_type": "stream",
     "text": [
      "2022-10-28 16:29:28,438 — root — INFO — autocontrast:27 — automatically adjusting contrast...\n",
      "2022-10-28 16:29:29,218 — root — INFO — acquire_image:186 — acquiring new ELECTRON image.\n"
     ]
    },
    {
     "name": "stdout",
     "output_type": "stream",
     "text": [
      "'71_sweep_1.00e+03_8.00e-10_2.46e-05_2.00e-06'\n"
     ]
    },
    {
     "name": "stderr",
     "output_type": "stream",
     "text": [
      "2022-10-28 16:29:42,683 — root — INFO — autocontrast:27 — automatically adjusting contrast...\n",
      "2022-10-28 16:29:43,445 — root — INFO — acquire_image:186 — acquiring new ELECTRON image.\n"
     ]
    },
    {
     "name": "stdout",
     "output_type": "stream",
     "text": [
      "'72_sweep_1.00e+03_8.00e-10_3.07e-05_2.00e-06'\n"
     ]
    },
    {
     "name": "stderr",
     "output_type": "stream",
     "text": [
      "2022-10-28 16:29:56,943 — root — INFO — autocontrast:27 — automatically adjusting contrast...\n",
      "2022-10-28 16:29:57,701 — root — INFO — acquire_image:186 — acquiring new ELECTRON image.\n"
     ]
    },
    {
     "name": "stdout",
     "output_type": "stream",
     "text": [
      "'73_sweep_1.00e+03_8.00e-10_3.69e-05_2.00e-06'\n"
     ]
    },
    {
     "name": "stderr",
     "output_type": "stream",
     "text": [
      "2022-10-28 16:30:11,180 — root — INFO — autocontrast:27 — automatically adjusting contrast...\n",
      "2022-10-28 16:30:11,975 — root — INFO — acquire_image:186 — acquiring new ELECTRON image.\n"
     ]
    },
    {
     "name": "stdout",
     "output_type": "stream",
     "text": [
      "'74_sweep_1.00e+03_8.00e-10_4.30e-05_2.00e-06'\n"
     ]
    },
    {
     "name": "stderr",
     "output_type": "stream",
     "text": [
      "2022-10-28 16:30:25,419 — root — INFO — autocontrast:27 — automatically adjusting contrast...\n",
      "2022-10-28 16:30:26,170 — root — INFO — acquire_image:186 — acquiring new ELECTRON image.\n"
     ]
    },
    {
     "name": "stdout",
     "output_type": "stream",
     "text": [
      "'75_sweep_1.00e+03_8.00e-10_4.92e-05_2.00e-06'\n"
     ]
    },
    {
     "name": "stderr",
     "output_type": "stream",
     "text": [
      "2022-10-28 16:30:39,690 — root — INFO — autocontrast:27 — automatically adjusting contrast...\n",
      "2022-10-28 16:30:40,762 — root — INFO — acquire_image:186 — acquiring new ELECTRON image.\n"
     ]
    },
    {
     "name": "stdout",
     "output_type": "stream",
     "text": [
      "'76_sweep_1.00e+03_8.00e-10_5.53e-05_2.00e-06'\n"
     ]
    },
    {
     "name": "stderr",
     "output_type": "stream",
     "text": [
      "2022-10-28 16:30:54,227 — root — INFO — autocontrast:27 — automatically adjusting contrast...\n",
      "2022-10-28 16:30:55,395 — root — INFO — acquire_image:186 — acquiring new ELECTRON image.\n"
     ]
    },
    {
     "name": "stdout",
     "output_type": "stream",
     "text": [
      "'77_sweep_1.00e+03_8.00e-10_6.14e-05_2.00e-06'\n"
     ]
    },
    {
     "name": "stderr",
     "output_type": "stream",
     "text": [
      "2022-10-28 16:35:57,045 — root — INFO — autocontrast:27 — automatically adjusting contrast...\n",
      "2022-10-28 16:35:57,760 — root — INFO — acquire_image:186 — acquiring new ELECTRON image.\n"
     ]
    },
    {
     "name": "stdout",
     "output_type": "stream",
     "text": [
      "'78_sweep_1.00e+03_4.00e-10_3.07e-06_2.00e-06'\n"
     ]
    },
    {
     "name": "stderr",
     "output_type": "stream",
     "text": [
      "2022-10-28 16:36:11,230 — root — INFO — autocontrast:27 — automatically adjusting contrast...\n",
      "2022-10-28 16:36:12,031 — root — INFO — acquire_image:186 — acquiring new ELECTRON image.\n"
     ]
    },
    {
     "name": "stdout",
     "output_type": "stream",
     "text": [
      "'79_sweep_1.00e+03_4.00e-10_6.14e-06_2.00e-06'\n"
     ]
    },
    {
     "name": "stderr",
     "output_type": "stream",
     "text": [
      "2022-10-28 16:36:25,508 — root — INFO — autocontrast:27 — automatically adjusting contrast...\n",
      "2022-10-28 16:36:26,252 — root — INFO — acquire_image:186 — acquiring new ELECTRON image.\n"
     ]
    },
    {
     "name": "stdout",
     "output_type": "stream",
     "text": [
      "'80_sweep_1.00e+03_4.00e-10_9.22e-06_2.00e-06'\n"
     ]
    },
    {
     "name": "stderr",
     "output_type": "stream",
     "text": [
      "2022-10-28 16:36:39,744 — root — INFO — autocontrast:27 — automatically adjusting contrast...\n",
      "2022-10-28 16:36:40,514 — root — INFO — acquire_image:186 — acquiring new ELECTRON image.\n"
     ]
    },
    {
     "name": "stdout",
     "output_type": "stream",
     "text": [
      "'81_sweep_1.00e+03_4.00e-10_1.23e-05_2.00e-06'\n"
     ]
    },
    {
     "name": "stderr",
     "output_type": "stream",
     "text": [
      "2022-10-28 16:36:53,978 — root — INFO — autocontrast:27 — automatically adjusting contrast...\n",
      "2022-10-28 16:36:54,747 — root — INFO — acquire_image:186 — acquiring new ELECTRON image.\n"
     ]
    },
    {
     "name": "stdout",
     "output_type": "stream",
     "text": [
      "'82_sweep_1.00e+03_4.00e-10_1.54e-05_2.00e-06'\n"
     ]
    },
    {
     "name": "stderr",
     "output_type": "stream",
     "text": [
      "2022-10-28 16:37:08,227 — root — INFO — autocontrast:27 — automatically adjusting contrast...\n",
      "2022-10-28 16:37:09,023 — root — INFO — acquire_image:186 — acquiring new ELECTRON image.\n"
     ]
    },
    {
     "name": "stdout",
     "output_type": "stream",
     "text": [
      "'83_sweep_1.00e+03_4.00e-10_1.84e-05_2.00e-06'\n"
     ]
    },
    {
     "name": "stderr",
     "output_type": "stream",
     "text": [
      "2022-10-28 16:37:22,517 — root — INFO — autocontrast:27 — automatically adjusting contrast...\n",
      "2022-10-28 16:37:23,281 — root — INFO — acquire_image:186 — acquiring new ELECTRON image.\n"
     ]
    },
    {
     "name": "stdout",
     "output_type": "stream",
     "text": [
      "'84_sweep_1.00e+03_4.00e-10_2.46e-05_2.00e-06'\n"
     ]
    },
    {
     "name": "stderr",
     "output_type": "stream",
     "text": [
      "2022-10-28 16:37:36,774 — root — INFO — autocontrast:27 — automatically adjusting contrast...\n",
      "2022-10-28 16:37:37,551 — root — INFO — acquire_image:186 — acquiring new ELECTRON image.\n"
     ]
    },
    {
     "name": "stdout",
     "output_type": "stream",
     "text": [
      "'85_sweep_1.00e+03_4.00e-10_3.07e-05_2.00e-06'\n"
     ]
    },
    {
     "name": "stderr",
     "output_type": "stream",
     "text": [
      "2022-10-28 16:37:51,024 — root — INFO — autocontrast:27 — automatically adjusting contrast...\n",
      "2022-10-28 16:37:51,807 — root — INFO — acquire_image:186 — acquiring new ELECTRON image.\n"
     ]
    },
    {
     "name": "stdout",
     "output_type": "stream",
     "text": [
      "'86_sweep_1.00e+03_4.00e-10_3.69e-05_2.00e-06'\n"
     ]
    },
    {
     "name": "stderr",
     "output_type": "stream",
     "text": [
      "2022-10-28 16:38:05,271 — root — INFO — autocontrast:27 — automatically adjusting contrast...\n",
      "2022-10-28 16:38:06,141 — root — INFO — acquire_image:186 — acquiring new ELECTRON image.\n"
     ]
    },
    {
     "name": "stdout",
     "output_type": "stream",
     "text": [
      "'87_sweep_1.00e+03_4.00e-10_4.30e-05_2.00e-06'\n"
     ]
    },
    {
     "name": "stderr",
     "output_type": "stream",
     "text": [
      "2022-10-28 16:38:19,602 — root — INFO — autocontrast:27 — automatically adjusting contrast...\n",
      "2022-10-28 16:38:20,404 — root — INFO — acquire_image:186 — acquiring new ELECTRON image.\n"
     ]
    },
    {
     "name": "stdout",
     "output_type": "stream",
     "text": [
      "'88_sweep_1.00e+03_4.00e-10_4.92e-05_2.00e-06'\n"
     ]
    },
    {
     "name": "stderr",
     "output_type": "stream",
     "text": [
      "2022-10-28 16:38:33,950 — root — INFO — autocontrast:27 — automatically adjusting contrast...\n",
      "2022-10-28 16:38:34,698 — root — INFO — acquire_image:186 — acquiring new ELECTRON image.\n"
     ]
    },
    {
     "name": "stdout",
     "output_type": "stream",
     "text": [
      "'89_sweep_1.00e+03_4.00e-10_5.53e-05_2.00e-06'\n"
     ]
    },
    {
     "name": "stderr",
     "output_type": "stream",
     "text": [
      "2022-10-28 16:38:48,184 — root — INFO — autocontrast:27 — automatically adjusting contrast...\n",
      "2022-10-28 16:38:49,394 — root — INFO — acquire_image:186 — acquiring new ELECTRON image.\n"
     ]
    },
    {
     "name": "stdout",
     "output_type": "stream",
     "text": [
      "'90_sweep_1.00e+03_4.00e-10_6.14e-05_2.00e-06'\n"
     ]
    },
    {
     "name": "stderr",
     "output_type": "stream",
     "text": [
      "2022-10-28 16:41:57,182 — root — INFO — autocontrast:27 — automatically adjusting contrast...\n"
     ]
    },
    {
     "name": "stdout",
     "output_type": "stream",
     "text": [
      "'91_sweep_1.00e+03_2.00e-10_3.07e-06_2.00e-06'\n"
     ]
    },
    {
     "name": "stderr",
     "output_type": "stream",
     "text": [
      "2022-10-28 16:41:57,904 — root — INFO — acquire_image:186 — acquiring new ELECTRON image.\n",
      "2022-10-28 16:42:11,827 — root — INFO — autocontrast:27 — automatically adjusting contrast...\n",
      "2022-10-28 16:42:12,564 — root — INFO — acquire_image:186 — acquiring new ELECTRON image.\n"
     ]
    },
    {
     "name": "stdout",
     "output_type": "stream",
     "text": [
      "'92_sweep_1.00e+03_2.00e-10_6.14e-06_2.00e-06'\n"
     ]
    },
    {
     "name": "stderr",
     "output_type": "stream",
     "text": [
      "2022-10-28 16:42:26,012 — root — INFO — autocontrast:27 — automatically adjusting contrast...\n",
      "2022-10-28 16:42:26,755 — root — INFO — acquire_image:186 — acquiring new ELECTRON image.\n"
     ]
    },
    {
     "name": "stdout",
     "output_type": "stream",
     "text": [
      "'93_sweep_1.00e+03_2.00e-10_9.22e-06_2.00e-06'\n"
     ]
    },
    {
     "name": "stderr",
     "output_type": "stream",
     "text": [
      "2022-10-28 16:42:40,223 — root — INFO — autocontrast:27 — automatically adjusting contrast...\n",
      "2022-10-28 16:42:41,102 — root — INFO — acquire_image:186 — acquiring new ELECTRON image.\n"
     ]
    },
    {
     "name": "stdout",
     "output_type": "stream",
     "text": [
      "'94_sweep_1.00e+03_2.00e-10_1.23e-05_2.00e-06'\n"
     ]
    },
    {
     "name": "stderr",
     "output_type": "stream",
     "text": [
      "2022-10-28 16:42:54,552 — root — INFO — autocontrast:27 — automatically adjusting contrast...\n",
      "2022-10-28 16:42:55,365 — root — INFO — acquire_image:186 — acquiring new ELECTRON image.\n"
     ]
    },
    {
     "name": "stdout",
     "output_type": "stream",
     "text": [
      "'95_sweep_1.00e+03_2.00e-10_1.54e-05_2.00e-06'\n"
     ]
    },
    {
     "name": "stderr",
     "output_type": "stream",
     "text": [
      "2022-10-28 16:43:08,763 — root — INFO — autocontrast:27 — automatically adjusting contrast...\n",
      "2022-10-28 16:43:09,552 — root — INFO — acquire_image:186 — acquiring new ELECTRON image.\n"
     ]
    },
    {
     "name": "stdout",
     "output_type": "stream",
     "text": [
      "'96_sweep_1.00e+03_2.00e-10_1.84e-05_2.00e-06'\n"
     ]
    },
    {
     "name": "stderr",
     "output_type": "stream",
     "text": [
      "2022-10-28 16:43:22,996 — root — INFO — autocontrast:27 — automatically adjusting contrast...\n",
      "2022-10-28 16:43:23,858 — root — INFO — acquire_image:186 — acquiring new ELECTRON image.\n"
     ]
    },
    {
     "name": "stdout",
     "output_type": "stream",
     "text": [
      "'97_sweep_1.00e+03_2.00e-10_2.46e-05_2.00e-06'\n"
     ]
    },
    {
     "name": "stderr",
     "output_type": "stream",
     "text": [
      "2022-10-28 16:43:37,362 — root — INFO — autocontrast:27 — automatically adjusting contrast...\n",
      "2022-10-28 16:43:38,137 — root — INFO — acquire_image:186 — acquiring new ELECTRON image.\n"
     ]
    },
    {
     "name": "stdout",
     "output_type": "stream",
     "text": [
      "'98_sweep_1.00e+03_2.00e-10_3.07e-05_2.00e-06'\n"
     ]
    },
    {
     "name": "stderr",
     "output_type": "stream",
     "text": [
      "2022-10-28 16:43:51,595 — root — INFO — autocontrast:27 — automatically adjusting contrast...\n",
      "2022-10-28 16:43:52,435 — root — INFO — acquire_image:186 — acquiring new ELECTRON image.\n"
     ]
    },
    {
     "name": "stdout",
     "output_type": "stream",
     "text": [
      "'99_sweep_1.00e+03_2.00e-10_3.69e-05_2.00e-06'\n"
     ]
    },
    {
     "name": "stderr",
     "output_type": "stream",
     "text": [
      "2022-10-28 16:44:05,906 — root — INFO — autocontrast:27 — automatically adjusting contrast...\n",
      "2022-10-28 16:44:06,753 — root — INFO — acquire_image:186 — acquiring new ELECTRON image.\n"
     ]
    },
    {
     "name": "stdout",
     "output_type": "stream",
     "text": [
      "'100_sweep_1.00e+03_2.00e-10_4.30e-05_2.00e-06'\n"
     ]
    },
    {
     "name": "stderr",
     "output_type": "stream",
     "text": [
      "2022-10-28 16:44:20,227 — root — INFO — autocontrast:27 — automatically adjusting contrast...\n",
      "2022-10-28 16:44:21,247 — root — INFO — acquire_image:186 — acquiring new ELECTRON image.\n"
     ]
    },
    {
     "name": "stdout",
     "output_type": "stream",
     "text": [
      "'101_sweep_1.00e+03_2.00e-10_4.92e-05_2.00e-06'\n"
     ]
    },
    {
     "name": "stderr",
     "output_type": "stream",
     "text": [
      "2022-10-28 16:44:34,721 — root — INFO — autocontrast:27 — automatically adjusting contrast...\n",
      "2022-10-28 16:44:35,766 — root — INFO — acquire_image:186 — acquiring new ELECTRON image.\n"
     ]
    },
    {
     "name": "stdout",
     "output_type": "stream",
     "text": [
      "'102_sweep_1.00e+03_2.00e-10_5.53e-05_2.00e-06'\n"
     ]
    },
    {
     "name": "stderr",
     "output_type": "stream",
     "text": [
      "2022-10-28 16:44:49,221 — root — INFO — autocontrast:27 — automatically adjusting contrast...\n",
      "2022-10-28 16:44:50,416 — root — INFO — acquire_image:186 — acquiring new ELECTRON image.\n"
     ]
    },
    {
     "name": "stdout",
     "output_type": "stream",
     "text": [
      "'103_sweep_1.00e+03_2.00e-10_6.14e-05_2.00e-06'\n"
     ]
    },
    {
     "name": "stderr",
     "output_type": "stream",
     "text": [
      "2022-10-28 16:51:07,438 — root — INFO — autocontrast:27 — automatically adjusting contrast...\n",
      "2022-10-28 16:52:06,633 — root — INFO — acquire_image:186 — acquiring new ELECTRON image.\n"
     ]
    },
    {
     "name": "stdout",
     "output_type": "stream",
     "text": [
      "'104_sweep_1.00e+03_1.00e-10_3.07e-06_2.00e-06'\n"
     ]
    },
    {
     "name": "stderr",
     "output_type": "stream",
     "text": [
      "2022-10-28 16:52:20,062 — root — INFO — autocontrast:27 — automatically adjusting contrast...\n",
      "2022-10-28 16:52:20,829 — root — INFO — acquire_image:186 — acquiring new ELECTRON image.\n"
     ]
    },
    {
     "name": "stdout",
     "output_type": "stream",
     "text": [
      "'105_sweep_1.00e+03_1.00e-10_6.14e-06_2.00e-06'\n"
     ]
    },
    {
     "name": "stderr",
     "output_type": "stream",
     "text": [
      "2022-10-28 16:52:34,318 — root — INFO — autocontrast:27 — automatically adjusting contrast...\n",
      "2022-10-28 16:52:35,046 — root — INFO — acquire_image:186 — acquiring new ELECTRON image.\n"
     ]
    },
    {
     "name": "stdout",
     "output_type": "stream",
     "text": [
      "'106_sweep_1.00e+03_1.00e-10_9.22e-06_2.00e-06'\n"
     ]
    },
    {
     "name": "stderr",
     "output_type": "stream",
     "text": [
      "2022-10-28 16:52:48,508 — root — INFO — autocontrast:27 — automatically adjusting contrast...\n",
      "2022-10-28 16:52:49,280 — root — INFO — acquire_image:186 — acquiring new ELECTRON image.\n"
     ]
    },
    {
     "name": "stdout",
     "output_type": "stream",
     "text": [
      "'107_sweep_1.00e+03_1.00e-10_1.23e-05_2.00e-06'\n"
     ]
    },
    {
     "name": "stderr",
     "output_type": "stream",
     "text": [
      "2022-10-28 16:53:02,715 — root — INFO — autocontrast:27 — automatically adjusting contrast...\n",
      "2022-10-28 16:53:03,505 — root — INFO — acquire_image:186 — acquiring new ELECTRON image.\n"
     ]
    },
    {
     "name": "stdout",
     "output_type": "stream",
     "text": [
      "'108_sweep_1.00e+03_1.00e-10_1.54e-05_2.00e-06'\n"
     ]
    },
    {
     "name": "stderr",
     "output_type": "stream",
     "text": [
      "2022-10-28 16:53:16,963 — root — INFO — autocontrast:27 — automatically adjusting contrast...\n",
      "2022-10-28 16:53:17,709 — root — INFO — acquire_image:186 — acquiring new ELECTRON image.\n"
     ]
    },
    {
     "name": "stdout",
     "output_type": "stream",
     "text": [
      "'109_sweep_1.00e+03_1.00e-10_1.84e-05_2.00e-06'\n"
     ]
    },
    {
     "name": "stderr",
     "output_type": "stream",
     "text": [
      "2022-10-28 16:53:31,171 — root — INFO — autocontrast:27 — automatically adjusting contrast...\n",
      "2022-10-28 16:53:31,981 — root — INFO — acquire_image:186 — acquiring new ELECTRON image.\n"
     ]
    },
    {
     "name": "stdout",
     "output_type": "stream",
     "text": [
      "'110_sweep_1.00e+03_1.00e-10_2.46e-05_2.00e-06'\n"
     ]
    },
    {
     "name": "stderr",
     "output_type": "stream",
     "text": [
      "2022-10-28 16:53:45,446 — root — INFO — autocontrast:27 — automatically adjusting contrast...\n",
      "2022-10-28 16:53:46,173 — root — INFO — acquire_image:186 — acquiring new ELECTRON image.\n"
     ]
    },
    {
     "name": "stdout",
     "output_type": "stream",
     "text": [
      "'111_sweep_1.00e+03_1.00e-10_3.07e-05_2.00e-06'\n"
     ]
    },
    {
     "name": "stderr",
     "output_type": "stream",
     "text": [
      "2022-10-28 16:53:59,693 — root — INFO — autocontrast:27 — automatically adjusting contrast...\n",
      "2022-10-28 16:54:00,674 — root — INFO — acquire_image:186 — acquiring new ELECTRON image.\n"
     ]
    },
    {
     "name": "stdout",
     "output_type": "stream",
     "text": [
      "'112_sweep_1.00e+03_1.00e-10_3.69e-05_2.00e-06'\n"
     ]
    },
    {
     "name": "stderr",
     "output_type": "stream",
     "text": [
      "2022-10-28 16:54:14,132 — root — INFO — autocontrast:27 — automatically adjusting contrast...\n",
      "2022-10-28 16:54:14,944 — root — INFO — acquire_image:186 — acquiring new ELECTRON image.\n"
     ]
    },
    {
     "name": "stdout",
     "output_type": "stream",
     "text": [
      "'113_sweep_1.00e+03_1.00e-10_4.30e-05_2.00e-06'\n"
     ]
    },
    {
     "name": "stderr",
     "output_type": "stream",
     "text": [
      "2022-10-28 16:54:28,401 — root — INFO — autocontrast:27 — automatically adjusting contrast...\n",
      "2022-10-28 16:54:29,401 — root — INFO — acquire_image:186 — acquiring new ELECTRON image.\n"
     ]
    },
    {
     "name": "stdout",
     "output_type": "stream",
     "text": [
      "'114_sweep_1.00e+03_1.00e-10_4.92e-05_2.00e-06'\n"
     ]
    },
    {
     "name": "stderr",
     "output_type": "stream",
     "text": [
      "2022-10-28 16:54:42,893 — root — INFO — autocontrast:27 — automatically adjusting contrast...\n",
      "2022-10-28 16:54:43,846 — root — INFO — acquire_image:186 — acquiring new ELECTRON image.\n"
     ]
    },
    {
     "name": "stdout",
     "output_type": "stream",
     "text": [
      "'115_sweep_1.00e+03_1.00e-10_5.53e-05_2.00e-06'\n"
     ]
    },
    {
     "name": "stderr",
     "output_type": "stream",
     "text": [
      "2022-10-28 16:54:57,303 — root — INFO — autocontrast:27 — automatically adjusting contrast...\n",
      "2022-10-28 16:54:58,427 — root — INFO — acquire_image:186 — acquiring new ELECTRON image.\n"
     ]
    },
    {
     "name": "stdout",
     "output_type": "stream",
     "text": [
      "'116_sweep_1.00e+03_1.00e-10_6.14e-05_2.00e-06'\n"
     ]
    },
    {
     "name": "stderr",
     "output_type": "stream",
     "text": [
      "2022-10-28 16:59:17,524 — root — INFO — autocontrast:27 — automatically adjusting contrast...\n",
      "2022-10-28 16:59:18,190 — root — INFO — acquire_image:186 — acquiring new ELECTRON image.\n"
     ]
    },
    {
     "name": "stdout",
     "output_type": "stream",
     "text": [
      "'117_sweep_1.00e+03_1.60e-09_3.07e-06_2.00e-06'\n"
     ]
    },
    {
     "name": "stderr",
     "output_type": "stream",
     "text": [
      "2022-10-28 16:59:31,650 — root — INFO — autocontrast:27 — automatically adjusting contrast...\n",
      "2022-10-28 16:59:32,491 — root — INFO — acquire_image:186 — acquiring new ELECTRON image.\n"
     ]
    },
    {
     "name": "stdout",
     "output_type": "stream",
     "text": [
      "'118_sweep_1.00e+03_1.60e-09_6.14e-06_2.00e-06'\n"
     ]
    },
    {
     "name": "stderr",
     "output_type": "stream",
     "text": [
      "2022-10-28 16:59:45,971 — root — INFO — autocontrast:27 — automatically adjusting contrast...\n",
      "2022-10-28 16:59:46,821 — root — INFO — acquire_image:186 — acquiring new ELECTRON image.\n"
     ]
    },
    {
     "name": "stdout",
     "output_type": "stream",
     "text": [
      "'119_sweep_1.00e+03_1.60e-09_9.22e-06_2.00e-06'\n"
     ]
    },
    {
     "name": "stderr",
     "output_type": "stream",
     "text": [
      "2022-10-28 17:00:00,253 — root — INFO — autocontrast:27 — automatically adjusting contrast...\n",
      "2022-10-28 17:00:01,091 — root — INFO — acquire_image:186 — acquiring new ELECTRON image.\n"
     ]
    },
    {
     "name": "stdout",
     "output_type": "stream",
     "text": [
      "'120_sweep_1.00e+03_1.60e-09_1.23e-05_2.00e-06'\n"
     ]
    },
    {
     "name": "stderr",
     "output_type": "stream",
     "text": [
      "2022-10-28 17:00:14,547 — root — INFO — autocontrast:27 — automatically adjusting contrast...\n",
      "2022-10-28 17:00:15,250 — root — INFO — acquire_image:186 — acquiring new ELECTRON image.\n"
     ]
    },
    {
     "name": "stdout",
     "output_type": "stream",
     "text": [
      "'121_sweep_1.00e+03_1.60e-09_1.54e-05_2.00e-06'\n"
     ]
    },
    {
     "name": "stderr",
     "output_type": "stream",
     "text": [
      "2022-10-28 17:00:28,709 — root — INFO — autocontrast:27 — automatically adjusting contrast...\n",
      "2022-10-28 17:00:29,496 — root — INFO — acquire_image:186 — acquiring new ELECTRON image.\n"
     ]
    },
    {
     "name": "stdout",
     "output_type": "stream",
     "text": [
      "'122_sweep_1.00e+03_1.60e-09_1.84e-05_2.00e-06'\n"
     ]
    },
    {
     "name": "stderr",
     "output_type": "stream",
     "text": [
      "2022-10-28 17:00:43,015 — root — INFO — autocontrast:27 — automatically adjusting contrast...\n",
      "2022-10-28 17:00:43,842 — root — INFO — acquire_image:186 — acquiring new ELECTRON image.\n"
     ]
    },
    {
     "name": "stdout",
     "output_type": "stream",
     "text": [
      "'123_sweep_1.00e+03_1.60e-09_2.46e-05_2.00e-06'\n"
     ]
    },
    {
     "name": "stderr",
     "output_type": "stream",
     "text": [
      "2022-10-28 17:00:57,234 — root — INFO — autocontrast:27 — automatically adjusting contrast...\n",
      "2022-10-28 17:00:57,983 — root — INFO — acquire_image:186 — acquiring new ELECTRON image.\n"
     ]
    },
    {
     "name": "stdout",
     "output_type": "stream",
     "text": [
      "'124_sweep_1.00e+03_1.60e-09_3.07e-05_2.00e-06'\n"
     ]
    },
    {
     "name": "stderr",
     "output_type": "stream",
     "text": [
      "2022-10-28 17:01:11,443 — root — INFO — autocontrast:27 — automatically adjusting contrast...\n",
      "2022-10-28 17:01:12,180 — root — INFO — acquire_image:186 — acquiring new ELECTRON image.\n"
     ]
    },
    {
     "name": "stdout",
     "output_type": "stream",
     "text": [
      "'125_sweep_1.00e+03_1.60e-09_3.69e-05_2.00e-06'\n"
     ]
    },
    {
     "name": "stderr",
     "output_type": "stream",
     "text": [
      "2022-10-28 17:01:25,673 — root — INFO — autocontrast:27 — automatically adjusting contrast...\n",
      "2022-10-28 17:01:26,435 — root — INFO — acquire_image:186 — acquiring new ELECTRON image.\n"
     ]
    },
    {
     "name": "stdout",
     "output_type": "stream",
     "text": [
      "'126_sweep_1.00e+03_1.60e-09_4.30e-05_2.00e-06'\n"
     ]
    },
    {
     "name": "stderr",
     "output_type": "stream",
     "text": [
      "2022-10-28 17:01:39,885 — root — INFO — autocontrast:27 — automatically adjusting contrast...\n",
      "2022-10-28 17:01:41,017 — root — INFO — acquire_image:186 — acquiring new ELECTRON image.\n"
     ]
    },
    {
     "name": "stdout",
     "output_type": "stream",
     "text": [
      "'127_sweep_1.00e+03_1.60e-09_4.92e-05_2.00e-06'\n"
     ]
    },
    {
     "name": "stderr",
     "output_type": "stream",
     "text": [
      "2022-10-28 17:01:54,483 — root — INFO — autocontrast:27 — automatically adjusting contrast...\n",
      "2022-10-28 17:01:55,650 — root — INFO — acquire_image:186 — acquiring new ELECTRON image.\n"
     ]
    },
    {
     "name": "stdout",
     "output_type": "stream",
     "text": [
      "'128_sweep_1.00e+03_1.60e-09_5.53e-05_2.00e-06'\n"
     ]
    },
    {
     "name": "stderr",
     "output_type": "stream",
     "text": [
      "2022-10-28 17:02:09,129 — root — INFO — autocontrast:27 — automatically adjusting contrast...\n",
      "2022-10-28 17:02:10,087 — root — INFO — acquire_image:186 — acquiring new ELECTRON image.\n"
     ]
    },
    {
     "name": "stdout",
     "output_type": "stream",
     "text": [
      "'129_sweep_1.00e+03_1.60e-09_6.14e-05_2.00e-06'\n"
     ]
    },
    {
     "data": {
      "text/html": [
       "<div>\n",
       "<style scoped>\n",
       "    .dataframe tbody tr th:only-of-type {\n",
       "        vertical-align: middle;\n",
       "    }\n",
       "\n",
       "    .dataframe tbody tr th {\n",
       "        vertical-align: top;\n",
       "    }\n",
       "\n",
       "    .dataframe thead th {\n",
       "        text-align: right;\n",
       "    }\n",
       "</style>\n",
       "<table border=\"1\" class=\"dataframe\">\n",
       "  <thead>\n",
       "    <tr style=\"text-align: right;\">\n",
       "      <th></th>\n",
       "      <th>voltage</th>\n",
       "      <th>beam_current</th>\n",
       "      <th>hfw</th>\n",
       "      <th>dwell_time</th>\n",
       "      <th>n_image</th>\n",
       "      <th>label</th>\n",
       "      <th>count</th>\n",
       "    </tr>\n",
       "  </thead>\n",
       "  <tbody>\n",
       "    <tr>\n",
       "      <th>0</th>\n",
       "      <td>1000.0</td>\n",
       "      <td>8.000000e-10</td>\n",
       "      <td>0.000003</td>\n",
       "      <td>0.000002</td>\n",
       "      <td>0</td>\n",
       "      <td>65_sweep_1.00e+03_8.00e-10_3.07e-06_2.00e-06</td>\n",
       "      <td>65</td>\n",
       "    </tr>\n",
       "    <tr>\n",
       "      <th>1</th>\n",
       "      <td>1000.0</td>\n",
       "      <td>8.000000e-10</td>\n",
       "      <td>0.000006</td>\n",
       "      <td>0.000002</td>\n",
       "      <td>0</td>\n",
       "      <td>66_sweep_1.00e+03_8.00e-10_6.14e-06_2.00e-06</td>\n",
       "      <td>66</td>\n",
       "    </tr>\n",
       "    <tr>\n",
       "      <th>2</th>\n",
       "      <td>1000.0</td>\n",
       "      <td>8.000000e-10</td>\n",
       "      <td>0.000009</td>\n",
       "      <td>0.000002</td>\n",
       "      <td>0</td>\n",
       "      <td>67_sweep_1.00e+03_8.00e-10_9.22e-06_2.00e-06</td>\n",
       "      <td>67</td>\n",
       "    </tr>\n",
       "    <tr>\n",
       "      <th>3</th>\n",
       "      <td>1000.0</td>\n",
       "      <td>8.000000e-10</td>\n",
       "      <td>0.000012</td>\n",
       "      <td>0.000002</td>\n",
       "      <td>0</td>\n",
       "      <td>68_sweep_1.00e+03_8.00e-10_1.23e-05_2.00e-06</td>\n",
       "      <td>68</td>\n",
       "    </tr>\n",
       "    <tr>\n",
       "      <th>4</th>\n",
       "      <td>1000.0</td>\n",
       "      <td>8.000000e-10</td>\n",
       "      <td>0.000015</td>\n",
       "      <td>0.000002</td>\n",
       "      <td>0</td>\n",
       "      <td>69_sweep_1.00e+03_8.00e-10_1.54e-05_2.00e-06</td>\n",
       "      <td>69</td>\n",
       "    </tr>\n",
       "    <tr>\n",
       "      <th>...</th>\n",
       "      <td>...</td>\n",
       "      <td>...</td>\n",
       "      <td>...</td>\n",
       "      <td>...</td>\n",
       "      <td>...</td>\n",
       "      <td>...</td>\n",
       "      <td>...</td>\n",
       "    </tr>\n",
       "    <tr>\n",
       "      <th>60</th>\n",
       "      <td>1000.0</td>\n",
       "      <td>1.600000e-09</td>\n",
       "      <td>0.000037</td>\n",
       "      <td>0.000002</td>\n",
       "      <td>0</td>\n",
       "      <td>125_sweep_1.00e+03_1.60e-09_3.69e-05_2.00e-06</td>\n",
       "      <td>125</td>\n",
       "    </tr>\n",
       "    <tr>\n",
       "      <th>61</th>\n",
       "      <td>1000.0</td>\n",
       "      <td>1.600000e-09</td>\n",
       "      <td>0.000043</td>\n",
       "      <td>0.000002</td>\n",
       "      <td>0</td>\n",
       "      <td>126_sweep_1.00e+03_1.60e-09_4.30e-05_2.00e-06</td>\n",
       "      <td>126</td>\n",
       "    </tr>\n",
       "    <tr>\n",
       "      <th>62</th>\n",
       "      <td>1000.0</td>\n",
       "      <td>1.600000e-09</td>\n",
       "      <td>0.000049</td>\n",
       "      <td>0.000002</td>\n",
       "      <td>0</td>\n",
       "      <td>127_sweep_1.00e+03_1.60e-09_4.92e-05_2.00e-06</td>\n",
       "      <td>127</td>\n",
       "    </tr>\n",
       "    <tr>\n",
       "      <th>63</th>\n",
       "      <td>1000.0</td>\n",
       "      <td>1.600000e-09</td>\n",
       "      <td>0.000055</td>\n",
       "      <td>0.000002</td>\n",
       "      <td>0</td>\n",
       "      <td>128_sweep_1.00e+03_1.60e-09_5.53e-05_2.00e-06</td>\n",
       "      <td>128</td>\n",
       "    </tr>\n",
       "    <tr>\n",
       "      <th>64</th>\n",
       "      <td>1000.0</td>\n",
       "      <td>1.600000e-09</td>\n",
       "      <td>0.000061</td>\n",
       "      <td>0.000002</td>\n",
       "      <td>0</td>\n",
       "      <td>129_sweep_1.00e+03_1.60e-09_6.14e-05_2.00e-06</td>\n",
       "      <td>129</td>\n",
       "    </tr>\n",
       "  </tbody>\n",
       "</table>\n",
       "<p>65 rows × 7 columns</p>\n",
       "</div>"
      ],
      "text/plain": [
       "    voltage  beam_current       hfw  dwell_time  n_image  \\\n",
       "0    1000.0  8.000000e-10  0.000003    0.000002        0   \n",
       "1    1000.0  8.000000e-10  0.000006    0.000002        0   \n",
       "2    1000.0  8.000000e-10  0.000009    0.000002        0   \n",
       "3    1000.0  8.000000e-10  0.000012    0.000002        0   \n",
       "4    1000.0  8.000000e-10  0.000015    0.000002        0   \n",
       "..      ...           ...       ...         ...      ...   \n",
       "60   1000.0  1.600000e-09  0.000037    0.000002        0   \n",
       "61   1000.0  1.600000e-09  0.000043    0.000002        0   \n",
       "62   1000.0  1.600000e-09  0.000049    0.000002        0   \n",
       "63   1000.0  1.600000e-09  0.000055    0.000002        0   \n",
       "64   1000.0  1.600000e-09  0.000061    0.000002        0   \n",
       "\n",
       "                                            label  count  \n",
       "0    65_sweep_1.00e+03_8.00e-10_3.07e-06_2.00e-06     65  \n",
       "1    66_sweep_1.00e+03_8.00e-10_6.14e-06_2.00e-06     66  \n",
       "2    67_sweep_1.00e+03_8.00e-10_9.22e-06_2.00e-06     67  \n",
       "3    68_sweep_1.00e+03_8.00e-10_1.23e-05_2.00e-06     68  \n",
       "4    69_sweep_1.00e+03_8.00e-10_1.54e-05_2.00e-06     69  \n",
       "..                                            ...    ...  \n",
       "60  125_sweep_1.00e+03_1.60e-09_3.69e-05_2.00e-06    125  \n",
       "61  126_sweep_1.00e+03_1.60e-09_4.30e-05_2.00e-06    126  \n",
       "62  127_sweep_1.00e+03_1.60e-09_4.92e-05_2.00e-06    127  \n",
       "63  128_sweep_1.00e+03_1.60e-09_5.53e-05_2.00e-06    128  \n",
       "64  129_sweep_1.00e+03_1.60e-09_6.14e-05_2.00e-06    129  \n",
       "\n",
       "[65 rows x 7 columns]"
      ]
     },
     "metadata": {},
     "output_type": "display_data"
    }
   ],
   "source": [
    "# beam current, resolution, dwell time\n",
    "voltages = [1e3]#, 2e3]\n",
    "beam_currents = [1.6e-9, 0.1e-9, 0.2e-9, 0.4e-9, 0.8e-9] \n",
    "# beam_currents = [50e-12]#, 0.1e-9, 0.2e-9, 0.4e-9, 0.8e-9] \n",
    "\n",
    "dwell_times = [2e-6]\n",
    "resolution = \"3072x2048\"\n",
    "\n",
    "settings.image.resolution = resolution\n",
    "settings.image.autocontrast = False\n",
    "settings.image.gamma.enabled = False\n",
    "settings.image.save = True\n",
    "\n",
    "N_IMAGES = 1\n",
    "\n",
    "counter = 65\n",
    "all_params = []\n",
    "for m, voltage in enumerate(voltages[::-1]):\n",
    "    microscope.beams.electron_beam.high_voltage.value = voltage\n",
    "    for i, beam_current in enumerate(beam_currents[::-1]):\n",
    "\n",
    "        # change beam current\n",
    "        microscope.beams.electron_beam.beam_current.value = beam_current\n",
    "        # microscope.auto_functions.run_auto_stigmator()\n",
    "        # microscope.auto_functions.run_auto_focus()\n",
    "        # calibration.auto_discharge_beam(microscope, settings.image)\n",
    "        input(\"confirm beam focus / stigmation\")\n",
    "\n",
    "        for j, hfw in enumerate(hfws):\n",
    "\n",
    "            acquire.autocontrast(microscope, BeamType.ELECTRON)\n",
    "\n",
    "            for k, dwell_time in enumerate(dwell_times):\n",
    "                \n",
    "                for n in range(N_IMAGES):\n",
    "\n",
    "                    # set image settings\n",
    "                    label = f\"{counter:02d}_sweep_{voltage:.2e}_{beam_current:.2e}_{hfw:.2e}_{dwell_time:.2e}\"\n",
    "                    settings.image.hfw = hfw\n",
    "                    settings.image.dwell_time = dwell_time\n",
    "                    settings.image.label = label\n",
    "\n",
    "                    pprint(settings.image.label)\n",
    "\n",
    "                    params = {\"voltage\": voltage, \n",
    "                        \"beam_current\": beam_current,\n",
    "                        \"hfw\": hfw,\n",
    "                        \"dwell_time\": dwell_time,\n",
    "                        \"n_image\": n,\n",
    "                        \"label\": label,\n",
    "                        \"count\": counter,\n",
    "                        }\n",
    "\n",
    "                    all_params.append(deepcopy(params))\n",
    "\n",
    "                    image = acquire.new_image(microscope, settings.image)\n",
    "                    counter+=1 \n",
    "    \n",
    "# save data\n",
    "df = pd.DataFrame.from_dict(all_params)\n",
    "df.to_csv(os.path.join(settings.image.save_path, \"data.csv\"))\n",
    "display(df)\n",
    "\n",
    "# image_count_sweep_voltage_beam_current_hfw_dwell_time\n"
   ]
  },
  {
   "cell_type": "code",
   "execution_count": null,
   "metadata": {},
   "outputs": [],
   "source": []
  },
  {
   "cell_type": "code",
   "execution_count": null,
   "metadata": {},
   "outputs": [],
   "source": []
  }
 ],
 "metadata": {
  "kernelspec": {
   "display_name": "Python 3.9.12 ('liftout')",
   "language": "python",
   "name": "python3"
  },
  "language_info": {
   "codemirror_mode": {
    "name": "ipython",
    "version": 3
   },
   "file_extension": ".py",
   "mimetype": "text/x-python",
   "name": "python",
   "nbconvert_exporter": "python",
   "pygments_lexer": "ipython3",
   "version": "3.9.12"
  },
  "orig_nbformat": 4,
  "vscode": {
   "interpreter": {
    "hash": "5cb17a689ea48522a268bdcd61b0f399058cec9c1acbad013779623d1fd2c02a"
   }
  }
 },
 "nbformat": 4,
 "nbformat_minor": 2
}
