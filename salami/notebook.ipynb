{
 "cells": [
  {
   "attachments": {},
   "cell_type": "markdown",
   "metadata": {},
   "source": [
    "# Denoising Pipeline Development"
   ]
  },
  {
   "cell_type": "code",
   "execution_count": null,
   "metadata": {},
   "outputs": [],
   "source": [
    "%load_ext autoreload\n",
    "%autoreload 2\n",
    "\n",
    "import fibsem\n",
    "import salami\n",
    "from fibsem import utils, acquire, alignment, calibration, milling\n",
    "from fibsem.structures import BeamType, FibsemPatternSettings, FibsemMillingSettings, FibsemPattern\n",
    "import matplotlib.pyplot as plt\n",
    "import numpy as np\n",
    "import os\n",
    "import pandas as pd\n",
    "import logging\n",
    "\n",
    "from salami.structures import SalamiSettings, run_salami, create_sweep_parameters\n",
    "\n"
   ]
  },
  {
   "cell_type": "code",
   "execution_count": null,
   "metadata": {},
   "outputs": [],
   "source": [
    "microscope, settings = utils.setup_session()\n"
   ]
  },
  {
   "cell_type": "code",
   "execution_count": null,
   "metadata": {},
   "outputs": [],
   "source": [
    "eb_image, ib_image = acquire.take_reference_images(microscope, settings.image)\n",
    "\n",
    "fig, ax = plt.subplots(1,2, figsize=(10,5))\n",
    "ax[0].imshow(eb_image.data, cmap=\"gray\")\n",
    "ax[1].imshow(ib_image.data, cmap=\"gray\")\n",
    "plt.show()\n"
   ]
  },
  {
   "cell_type": "code",
   "execution_count": null,
   "metadata": {},
   "outputs": [],
   "source": []
  },
  {
   "cell_type": "code",
   "execution_count": null,
   "metadata": {},
   "outputs": [],
   "source": []
  },
  {
   "attachments": {},
   "cell_type": "markdown",
   "metadata": {},
   "source": [
    "### Move Raw Images to a New Directory"
   ]
  },
  {
   "cell_type": "code",
   "execution_count": null,
   "metadata": {},
   "outputs": [],
   "source": [
    "%load_ext autoreload\n",
    "%autoreload 2\n",
    "\n",
    "import glob\n",
    "import os\n",
    "from pathlib import Path\n",
    "\n",
    "\n",
    "path = \"/home/patrick/github/salami/salami/denoise/raw_imgs\"\n",
    "slow_filenames = sorted(glob.glob(os.path.join(path, \"*5e-06*.tif\")))\n",
    "fast_filenames = sorted(glob.glob(os.path.join(path, \"*5e-07*.tif\")))\n",
    "\n",
    "\n",
    "from pprint import pprint\n",
    "raw_path = \"/home/patrick/github/salami/data/20230310/raw\"\n",
    "\n",
    "\n",
    "os.makedirs(os.path.join(raw_path, \"slow\"), exist_ok=True)\n",
    "os.makedirs(os.path.join(raw_path, \"fast\"), exist_ok=True)\n",
    "\n",
    "for fname in slow_filenames:\n",
    "\n",
    "    idx = int(os.path.splitext(os.path.basename(fname))[0].split(\"_\")[1])\n",
    "    print(os.path.join(raw_path, \"slow\",  f\"{idx:06d}.tif\"))\n",
    "\n",
    "    # copy file with os\n",
    "    # os.system(f\"cp {fname} {os.path.join(raw_path, 'slow',  f'{idx:06d}.tif')}\")\n",
    "\n",
    "\n"
   ]
  },
  {
   "cell_type": "code",
   "execution_count": null,
   "metadata": {},
   "outputs": [],
   "source": [
    "\n",
    "raw_path = \"/home/patrick/github/salami/data/20230310/raw\"\n",
    "\n",
    "fast_filenames = sorted(glob.glob(os.path.join(raw_path, \"fast\", \"*.tif\")))\n",
    "slow_filenames = sorted(glob.glob(os.path.join(raw_path, \"slow\", \"*.tif\")))\n",
    "\n",
    "\n",
    "from pprint import pprint\n",
    "\n",
    "# pprint(fast_filenames)\n",
    "\n",
    "import math\n",
    "\n",
    "from salami.denoise.inference import get_window, get_index, get_closest_index\n",
    "\n",
    "window_size = 5\n",
    "for idx, fname in enumerate(fast_filenames):\n",
    "\n",
    "    # idx = get_index(fname) # this is based on the fname which means nothing\n",
    "    window = get_window(fast_filenames, idx, window_size=window_size)\n",
    "    if len(window) < window_size:\n",
    "        continue\n",
    "    # closest = get_closest_index(window, idx)\n",
    "    # print(f\"index: {idx}, closest: {get_index(closest)}\")\n",
    "    print(f\"index: {idx}, window: {[get_index(f) for f in window]}\")\n",
    "    # print(window)\n",
    "    \n",
    "\n",
    "\n"
   ]
  },
  {
   "cell_type": "code",
   "execution_count": null,
   "metadata": {},
   "outputs": [],
   "source": []
  }
 ],
 "metadata": {
  "kernelspec": {
   "display_name": "denoise2",
   "language": "python",
   "name": "python3"
  },
  "language_info": {
   "codemirror_mode": {
    "name": "ipython",
    "version": 3
   },
   "file_extension": ".py",
   "mimetype": "text/x-python",
   "name": "python",
   "nbconvert_exporter": "python",
   "pygments_lexer": "ipython3",
   "version": "3.9.16"
  },
  "orig_nbformat": 4,
  "vscode": {
   "interpreter": {
    "hash": "53a33aba5d556573efe698e4f24a06c237eaec573801e5662fdc22c91166d09e"
   }
  }
 },
 "nbformat": 4,
 "nbformat_minor": 2
}
