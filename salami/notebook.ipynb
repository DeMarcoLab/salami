{
 "cells": [
  {
   "attachments": {},
   "cell_type": "markdown",
   "metadata": {},
   "source": [
    "# Denoising Pipeline Development"
   ]
  },
  {
   "cell_type": "code",
   "execution_count": null,
   "metadata": {},
   "outputs": [],
   "source": [
    "%load_ext autoreload\n",
    "%autoreload 2\n",
    "\n",
    "import fibsem\n",
    "import salami\n",
    "from fibsem import utils, acquire, alignment, calibration, milling\n",
    "from fibsem.structures import BeamType, FibsemPatternSettings, FibsemMillingSettings, FibsemPattern\n",
    "import matplotlib.pyplot as plt\n",
    "import numpy as np\n",
    "import os\n",
    "import pandas as pd\n",
    "import logging\n",
    "\n",
    "from salami.structures import SalamiSettings, run_salami, create_sweep_parameters\n",
    "\n"
   ]
  },
  {
   "cell_type": "code",
   "execution_count": null,
   "metadata": {},
   "outputs": [],
   "source": [
    "microscope, settings = utils.setup_session()\n"
   ]
  },
  {
   "cell_type": "code",
   "execution_count": null,
   "metadata": {},
   "outputs": [],
   "source": [
    "eb_image, ib_image = acquire.take_reference_images(microscope, settings.image)\n",
    "\n",
    "fig, ax = plt.subplots(1,2, figsize=(10,5))\n",
    "ax[0].imshow(eb_image.data, cmap=\"gray\")\n",
    "ax[1].imshow(ib_image.data, cmap=\"gray\")\n",
    "plt.show()\n"
   ]
  },
  {
   "cell_type": "code",
   "execution_count": null,
   "metadata": {},
   "outputs": [],
   "source": []
  },
  {
   "cell_type": "code",
   "execution_count": null,
   "metadata": {},
   "outputs": [],
   "source": []
  },
  {
   "attachments": {},
   "cell_type": "markdown",
   "metadata": {},
   "source": [
    "### Move Raw Images to a New Directory"
   ]
  },
  {
   "cell_type": "code",
   "execution_count": null,
   "metadata": {},
   "outputs": [],
   "source": [
    "%load_ext autoreload\n",
    "%autoreload 2\n",
    "\n",
    "import glob\n",
    "import os\n",
    "from pathlib import Path\n",
    "\n",
    "\n",
    "path = \"/home/patrick/github/salami/salami/denoise/raw_imgs\"\n",
    "slow_filenames = sorted(glob.glob(os.path.join(path, \"*5e-06*.tif\")))\n",
    "fast_filenames = sorted(glob.glob(os.path.join(path, \"*5e-07*.tif\")))\n",
    "\n",
    "\n",
    "from pprint import pprint\n",
    "raw_path = \"/home/patrick/github/salami/data/20230310/raw\"\n",
    "\n",
    "\n",
    "os.makedirs(os.path.join(raw_path, \"slow\"), exist_ok=True)\n",
    "os.makedirs(os.path.join(raw_path, \"fast\"), exist_ok=True)\n",
    "\n",
    "for fname in fast_filenames:\n",
    "\n",
    "    idx = int(os.path.splitext(os.path.basename(fname))[0].split(\"_\")[1])\n",
    "    print(os.path.join(raw_path, \"fast\",  f\"{idx:06d}.tif\"))\n",
    "\n",
    "    # copy file with os\n",
    "    # os.system(f\"cp {fname} {os.path.join(raw_path, 'fast',  f'{idx:06d}.tif')}\")\n",
    "\n",
    "\n"
   ]
  },
  {
   "cell_type": "code",
   "execution_count": null,
   "metadata": {},
   "outputs": [],
   "source": [
    "\n",
    "raw_path = \"/home/patrick/github/salami/data/20230310/raw\"\n",
    "\n",
    "fast_filenames = sorted(glob.glob(os.path.join(raw_path, \"fast\", \"*.tif\")))\n",
    "slow_filenames = sorted(glob.glob(os.path.join(raw_path, \"slow\", \"*.tif\")))\n",
    "\n",
    "\n",
    "from pprint import pprint\n",
    "\n",
    "# pprint(fast_filenames)\n",
    "\n",
    "import math\n",
    "\n",
    "from salami.denoise.inference import get_window, get_index, get_closest_index\n",
    "\n",
    "window_size = 5\n",
    "for idx, fname in enumerate(fast_filenames):\n",
    "\n",
    "    # idx = get_index(fname) # this is based on the fname which means nothing\n",
    "    window = get_window(fast_filenames, idx, window_size=window_size)\n",
    "    if len(window) < window_size:\n",
    "        continue\n",
    "    # closest = get_closest_index(window, idx)\n",
    "    # print(f\"index: {idx}, closest: {get_index(closest)}\")\n",
    "    print(f\"index: {idx}, window: {[get_index(f) for f in window]}\")\n",
    "    # print(window)\n",
    "    "
   ]
  },
  {
   "attachments": {},
   "cell_type": "markdown",
   "metadata": {},
   "source": [
    "## Segmentation Diagnostics"
   ]
  },
  {
   "cell_type": "code",
   "execution_count": null,
   "metadata": {},
   "outputs": [],
   "source": [
    "%load_ext autoreload\n",
    "%autoreload 2\n",
    "\n",
    "import os\n",
    "from salami.segmentation import segmentation as sseg\n",
    "\n",
    "path = \"/home/patrick/github/salami/salami/output/seg\"\n",
    "\n",
    "stats = sseg.calc_seg_diagnostic(path, plot=True)"
   ]
  },
  {
   "cell_type": "code",
   "execution_count": null,
   "metadata": {},
   "outputs": [],
   "source": [
    "print(stats[\"counts\"].shape)"
   ]
  },
  {
   "cell_type": "code",
   "execution_count": null,
   "metadata": {},
   "outputs": [],
   "source": [
    "df = sseg.calculate_diag_df(stats)\n",
    "display(df)"
   ]
  },
  {
   "cell_type": "code",
   "execution_count": null,
   "metadata": {},
   "outputs": [],
   "source": [
    "# plot the counts\n",
    "\n",
    "# get column names except fname\n",
    "\n",
    "labels = df.columns[:-1]\n",
    "df.plot(x=\"fname\", y=labels, kind=\"line\", figsize=(10,5)) \n",
    "# df.plot(x=\"fname\", y=stats[\"labels\"], kind=\"line\", figsize=(10,5))"
   ]
  },
  {
   "attachments": {},
   "cell_type": "markdown",
   "metadata": {},
   "source": [
    "## WatchDog Testing"
   ]
  },
  {
   "cell_type": "code",
   "execution_count": null,
   "metadata": {},
   "outputs": [],
   "source": [
    "%load_ext autoreload\n",
    "%autoreload 2\n",
    "\n",
    "import glob\n",
    "import os\n",
    "from pathlib import Path\n",
    "\n",
    "\n",
    "path = \"/home/patrick/github/salami/salami/denoise/raw_imgs\"\n",
    "# slow_filenames = sorted(glob.glob(os.path.join(path, \"*5e-06*.tif\")))\n",
    "fast_filenames = sorted(glob.glob(os.path.join(path, \"*5e-07*.tif\")))\n",
    "\n",
    "\n",
    "from pprint import pprint\n",
    "raw_path = \"/home/patrick/github/salami/salami/output2/raw\"\n",
    "\n",
    "# os.makedirs(os.path.join(raw_path, \"slow\"), exist_ok=True)\n",
    "os.makedirs(raw_path, exist_ok=True)\n",
    "import time\n",
    "for fname in fast_filenames:\n",
    "\n",
    "    idx = int(os.path.splitext(os.path.basename(fname))[0].split(\"_\")[1])\n",
    "    print(os.path.join(raw_path, f\"{idx:06d}.tif\"))\n",
    "\n",
    "    # copy file with os\n",
    "    os.system(f\"cp {fname} {os.path.join(raw_path, f'{idx:06d}.tif')}\")\n",
    "\n",
    "    time.sleep(0.5)\n"
   ]
  },
  {
   "cell_type": "code",
   "execution_count": null,
   "metadata": {},
   "outputs": [],
   "source": []
  },
  {
   "cell_type": "code",
   "execution_count": null,
   "metadata": {},
   "outputs": [],
   "source": [
    "# simulate latency of 45sec vs 12 sec\n",
    "# plot a graph of 1 image per 12 sec vs 1 image per 45 sec\n",
    "\n",
    "# 1 per 12\n",
    "# 1 per 45\n",
    "\n",
    "fps12 = 1 / 12 # frames per seconds\n",
    "fps45 = 1 / 45 # frames per seconds \n",
    "\n",
    "print(fps12, fps45)\n",
    "\n",
    "import numpy as np\n",
    "import matplotlib.pyplot as plt\n",
    "\n",
    "x = np.arange(0, 1000, 1)\n",
    "y1 = fps12 * x\n",
    "y2 = fps45 * x\n",
    "\n",
    "plt.plot(x, y1, label=\"12 spf\")\n",
    "plt.plot(x, y2, label=\"45 spf\")\n",
    "# difference\n",
    "plt.plot(x, y1 - y2, label=\"difference\")\n",
    "plt.xlabel(\"number of seconds\")\n",
    "plt.ylabel(\"number of images\")\n",
    "plt.legend()\n",
    "plt.show()"
   ]
  },
  {
   "cell_type": "code",
   "execution_count": null,
   "metadata": {},
   "outputs": [],
   "source": []
  },
  {
   "cell_type": "code",
   "execution_count": null,
   "metadata": {},
   "outputs": [],
   "source": [
    "from salami.denoise.frame import *\n",
    "import matplotlib.pyplot as plt\n",
    "\n",
    "# how to calculate FRC between to images & calculate PSNR\n",
    "\n",
    "# load image, split in half save files\n",
    "from fibsem.structures import FibsemImage\n",
    "import tifffile as tff\n",
    "\n",
    "import glob\n",
    "path = \"/home/patrick/github/data/salami/analysis/2023-04-14-07-05-07PM/data\"\n",
    "filenames = sorted(glob.glob(os.path.join(path, \"*.tif\")))\n",
    "\n",
    "for fname in filenames:\n",
    "\n",
    "\n",
    "    img = FibsemImage.load(fname)\n",
    "\n",
    "    # split in half\n",
    "    img1 = img.data[:, :img.data.shape[1]//2]\n",
    "    img2 = img.data[:, img.data.shape[1]//2:]\n",
    "\n",
    "    # save\n",
    "    tmp_dir = os.path.join(os.path.dirname(fname), \"tmp\")\n",
    "    os.makedirs(tmp_dir, exist_ok=True)\n",
    "\n",
    "    fname1 = os.path.join(tmp_dir, \"tmp1.tif\")\n",
    "    fname2 = os.path.join(tmp_dir, \"tmp2.tif\")\n",
    "    tff.imwrite(fname1, img1)\n",
    "    tff.imwrite(fname2, img2)\n",
    "\n",
    "\n",
    "    # read\n",
    "    img1 = Frame(filename=fname1)\n",
    "    img2 = Frame(filename=fname2)\n",
    "\n",
    "    # remove borders\n",
    "    border = 128\n",
    "    img1 = img1.clip(border, border, border, border)\n",
    "    img2 = img2.clip(border, border, border, border)\n",
    "\n",
    "    # PSNR\n",
    "    psnr = img1.calcPSNR(img2)\n",
    "\n",
    "    # FRC\n",
    "    # image normalization, masking, Fourier transformation\n",
    "    img1.normalize()\n",
    "    img1.taperEdges(0.95)  # rectangular Tukey windowing (= cosine edge)\n",
    "    img1.fft()\n",
    "\n",
    "    img2.normalize()\n",
    "    img2.taperEdges(0.95)  # rectangular Tukey windowing (= cosine edge)\n",
    "    img2.fft()\n",
    "\n",
    "    # actual calculation & plot\n",
    "    g, frc = img1.calcFRC(img2)\n",
    "\n",
    "\n",
    "    # subplot image and metric\n",
    "    import matplotlib.pyplot as plt\n",
    "    print(f\"{os.path.basename(fname)}, {img.data.shape}, PSNR: {psnr:.2f}\")\n",
    "\n",
    "    fig, ax = plt.subplots(1,2, figsize=(10,5))\n",
    "    ax[0].imshow(img.data, cmap=\"gray\")\n",
    "    ax[1].plot(g, frc)\n",
    "    plt.show()\n",
    "\n",
    "# TODO: port this to not use the Frame class\n",
    "# TODO: getting negative values?\n",
    "# TODO: need to understand what is happening\n"
   ]
  },
  {
   "attachments": {},
   "cell_type": "markdown",
   "metadata": {},
   "source": [
    "## Analysis Pipeline"
   ]
  },
  {
   "cell_type": "code",
   "execution_count": null,
   "metadata": {},
   "outputs": [],
   "source": [
    "%load_ext autoreload\n",
    "%autoreload 2\n",
    "\n",
    "from salami import analysis as sa\n",
    "from fibsem.structures import FibsemImage\n",
    "\n",
    "import os\n",
    "import glob\n",
    "\n",
    "from scipy import ndimage\n",
    "import matplotlib.pyplot as plt\n",
    "\n",
    "import pandas as pd\n",
    "import os\n",
    "import glob\n",
    "from tqdm import tqdm\n",
    "import numpy as np\n",
    "\n"
   ]
  },
  {
   "cell_type": "code",
   "execution_count": null,
   "metadata": {},
   "outputs": [],
   "source": [
    "\n",
    "# x axis = 1 / nm\n",
    "\n",
    "\n",
    "path = \"/home/patrick/github/data/salami/analysis/2023-04-14-07-05-07PM/data\"\n",
    "df = sa.run_salami_analysis_frc(path, plot=True, show=True)\n",
    "\n"
   ]
  },
  {
   "cell_type": "code",
   "execution_count": null,
   "metadata": {},
   "outputs": [],
   "source": [
    "df = pd.read_csv(os.path.join(path, \"metrics.csv\"))\n",
    "\n",
    "# parameters + metrics\n",
    "df = sa.join_df(path)\n",
    "display(df)\n"
   ]
  },
  {
   "cell_type": "code",
   "execution_count": null,
   "metadata": {},
   "outputs": [],
   "source": [
    "import plotly.express as px\n",
    "\n",
    "\n",
    "# convert dwell time to category\n",
    "df[\"dwell_time\"] = df[\"dwell_time\"].astype(\"category\")\n",
    "\n",
    "# plot 3d scatter plot with current, pixelsize and int_05 color by dwell time\n",
    "fig = px.scatter_3d(df, x=\"current\", \n",
    "                    y=\"pixelsize\", \n",
    "                    z=\"int_05\", \n",
    "                    color=\"dwell_time\", \n",
    "                    opacity=0.5)\n",
    "fig.show()\n",
    "\n",
    "\n",
    "# plot 3d scatter plot with current, pixelsize and int_0143 color by dwell time\n",
    "fig = px.scatter_3d(df, x=\"current\", \n",
    "                    y=\"pixelsize\", \n",
    "                    z=\"int_0143\", \n",
    "                    color=\"dwell_time\", \n",
    "                    opacity=0.5)\n",
    "fig.show()"
   ]
  },
  {
   "cell_type": "code",
   "execution_count": null,
   "metadata": {},
   "outputs": [],
   "source": [
    "\n",
    "# plot line plot with pixelsize and int_05 color by dwell time, marker by current\n",
    "\n",
    "fig = px.line(df, x=\"pixelsize\", y=\"int_05\", \n",
    "              color=\"dwell_time\", \n",
    "              line_group=\"current\",\n",
    "              line_dash=\"current\", \n",
    "              hover_name=\"basename\")\n",
    "\n",
    "# set title\n",
    "fig.update_layout(title=\"FRC 0.5\")\n",
    "\n",
    "fig.show()\n",
    "\n",
    "fig = px.line(df, x=\"pixelsize\", y=\"int_0143\", \n",
    "              color=\"dwell_time\", \n",
    "              line_group=\"current\",\n",
    "              line_dash=\"current\", \n",
    "              hover_name=\"basename\")\n",
    "# set title\n",
    "fig.update_layout(title=\"FRC 0.143\")\n",
    "fig.show()\n"
   ]
  },
  {
   "cell_type": "code",
   "execution_count": null,
   "metadata": {},
   "outputs": [],
   "source": [
    "\n",
    "\n",
    "# group by current\n",
    "df_group = df.groupby(\"current\").mean().reset_index()\n"
   ]
  },
  {
   "attachments": {},
   "cell_type": "markdown",
   "metadata": {},
   "source": [
    "## Experiment Management\n"
   ]
  },
  {
   "cell_type": "code",
   "execution_count": null,
   "metadata": {},
   "outputs": [],
   "source": [
    "%load_ext autoreload\n",
    "%autoreload 2\n",
    "\n",
    "from salami.structures import Experiment, SalamiSettings, SalamiImageSettings\n",
    "\n",
    "from fibsem.structures import ImageSettings, BeamType, BeamSettings, FibsemDetectorSettings, MicroscopeState\n",
    "from fibsem import utils as futils\n",
    "from fibsem.patterning import FibsemMillingStage\n",
    "\n",
    "import os\n",
    "\n"
   ]
  },
  {
   "cell_type": "code",
   "execution_count": null,
   "metadata": {},
   "outputs": [],
   "source": [
    "microscope, settings = futils.setup_session(manufacturer=\"Demo\")\n"
   ]
  },
  {
   "cell_type": "code",
   "execution_count": null,
   "metadata": {},
   "outputs": [],
   "source": [
    "\n",
    "\n",
    "PATH = os.getcwd()\n",
    "exp = Experiment(path=PATH, name=\"salami\")\n",
    "\n",
    "beam_type=  BeamType.ELECTRON\n",
    "exp.settings = SalamiSettings(\n",
    "    n_steps=10,\n",
    "    step_size=150e-9,\n",
    "    image = [SalamiImageSettings(\n",
    "        settings.image,\n",
    "        BeamSettings(beam_type=beam_type), \n",
    "        FibsemDetectorSettings()\n",
    "        )\n",
    "    ],\n",
    "    mill = FibsemMillingStage()\n",
    ")\n",
    "\n",
    "print(exp)\n",
    "\n",
    "exp.settings.mill.pattern.protocol ={\"width\":50e-6, \"height\":5e-6, \"depth\": 10e-6, \"rotation\": 0.0}"
   ]
  },
  {
   "cell_type": "code",
   "execution_count": null,
   "metadata": {},
   "outputs": [],
   "source": [
    "print(exp.settings.mill.pattern.point)\n"
   ]
  },
  {
   "cell_type": "code",
   "execution_count": null,
   "metadata": {},
   "outputs": [],
   "source": [
    "from pprint import pprint\n",
    "pprint(exp.settings)"
   ]
  },
  {
   "cell_type": "code",
   "execution_count": null,
   "metadata": {},
   "outputs": [],
   "source": [
    "exp.save()\n",
    "print(exp)"
   ]
  },
  {
   "cell_type": "code",
   "execution_count": null,
   "metadata": {},
   "outputs": [],
   "source": [
    "LOAD_PATH = \"../salami/salami/salami.yaml\"\n",
    "exp2 = Experiment.load(LOAD_PATH)\n",
    "print(exp2)"
   ]
  },
  {
   "cell_type": "code",
   "execution_count": null,
   "metadata": {},
   "outputs": [],
   "source": [
    "from salami.core import run_salami\n",
    "\n",
    "run_salami(microscope, settings, exp.settings)"
   ]
  },
  {
   "cell_type": "code",
   "execution_count": null,
   "metadata": {},
   "outputs": [],
   "source": [
    "settings.image"
   ]
  },
  {
   "cell_type": "code",
   "execution_count": null,
   "metadata": {},
   "outputs": [],
   "source": [
    "from salami.core import load_protocol\n",
    "from fibsem.utils import load_yaml\n",
    "\n",
    "protocol = load_yaml(\"../salami/protocol/protocol.yaml\")\n",
    "\n",
    "ss = load_protocol(protocol)\n",
    "\n",
    "pprint(ss.image[0].image)\n",
    "pprint(ss.mill.pattern)\n",
    "print(ss.mill.milling)"
   ]
  },
  {
   "cell_type": "code",
   "execution_count": null,
   "metadata": {},
   "outputs": [],
   "source": [
    "pprint(protocol)"
   ]
  },
  {
   "cell_type": "code",
   "execution_count": null,
   "metadata": {},
   "outputs": [],
   "source": [
    "pprint(ss.mill.pattern.protocol)\n",
    "\n",
    "ss.mill.pattern.define(ss.mill.pattern.protocol)"
   ]
  },
  {
   "cell_type": "code",
   "execution_count": null,
   "metadata": {},
   "outputs": [],
   "source": [
    "run_salami(microscope, settings, ss)"
   ]
  },
  {
   "cell_type": "code",
   "execution_count": null,
   "metadata": {},
   "outputs": [],
   "source": []
  }
 ],
 "metadata": {
  "kernelspec": {
   "display_name": "denoise2",
   "language": "python",
   "name": "python3"
  },
  "language_info": {
   "codemirror_mode": {
    "name": "ipython",
    "version": 3
   },
   "file_extension": ".py",
   "mimetype": "text/x-python",
   "name": "python",
   "nbconvert_exporter": "python",
   "pygments_lexer": "ipython3",
   "version": "3.9.16"
  },
  "orig_nbformat": 4,
  "vscode": {
   "interpreter": {
    "hash": "53a33aba5d556573efe698e4f24a06c237eaec573801e5662fdc22c91166d09e"
   }
  }
 },
 "nbformat": 4,
 "nbformat_minor": 2
}
