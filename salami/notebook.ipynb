{
 "cells": [
  {
   "attachments": {},
   "cell_type": "markdown",
   "metadata": {},
   "source": [
    "# Denoising Pipeline Development"
   ]
  },
  {
   "cell_type": "code",
   "execution_count": null,
   "metadata": {},
   "outputs": [],
   "source": [
    "%load_ext autoreload\n",
    "%autoreload 2\n",
    "\n",
    "import fibsem\n",
    "# import pepper\n",
    "import salami\n",
    "# from salami.pepper.salami import run_salami, SalamiSettings\n",
    "from fibsem import utils, acquire, alignment, calibration, milling\n",
    "from fibsem.structures import BeamType, FibsemPatternSettings, FibsemMillingSettings, FibsemPattern\n",
    "import matplotlib.pyplot as plt\n",
    "import numpy as np\n",
    "import os\n",
    "import pandas as pd\n",
    "import logging\n",
    "\n",
    "from salami.structures import SalamiSettings, run_salami, create_sweep_parameters\n",
    "\n"
   ]
  },
  {
   "cell_type": "code",
   "execution_count": null,
   "metadata": {},
   "outputs": [],
   "source": [
    "microscope, settings = utils.setup_session()\n"
   ]
  },
  {
   "cell_type": "code",
   "execution_count": null,
   "metadata": {},
   "outputs": [],
   "source": [
    "eb_image, ib_image = acquire.take_reference_images(microscope, settings.image)\n",
    "\n",
    "fig, ax = plt.subplots(1,2, figsize=(10,5))\n",
    "ax[0].imshow(eb_image.data, cmap=\"gray\")\n",
    "ax[1].imshow(ib_image.data, cmap=\"gray\")\n",
    "plt.show()\n"
   ]
  },
  {
   "attachments": {},
   "cell_type": "markdown",
   "metadata": {},
   "source": [
    "## Parameter Sweep\n",
    "\n",
    "- Set a list of parameters to sweep through\n",
    "- Acquire images using the sweep parameters\n",
    "- Run the denoising pipeline on the images\n",
    "- Save the results\n",
    "- Fit the curve, and show results to user"
   ]
  },
  {
   "cell_type": "code",
   "execution_count": null,
   "metadata": {},
   "outputs": [],
   "source": [
    "from salami import structures as st\n",
    "\n",
    "path = os.path.join(settings.image.save_path, \"data\")\n",
    "\n",
    "df = st.create_sweep_parameters(settings, None)\n",
    "\n",
    "st.run_sweep_collection(microscope, settings, break_idx=10)\n",
    "df = st.run_sweep_analysis(path)\n",
    "df = st.join_df(path)\n",
    "st.plot_metrics(path)"
   ]
  }
 ],
 "metadata": {
  "kernelspec": {
   "display_name": "denoise2",
   "language": "python",
   "name": "python3"
  },
  "language_info": {
   "codemirror_mode": {
    "name": "ipython",
    "version": 3
   },
   "file_extension": ".py",
   "mimetype": "text/x-python",
   "name": "python",
   "nbconvert_exporter": "python",
   "pygments_lexer": "ipython3",
   "version": "3.10.9"
  },
  "orig_nbformat": 4,
  "vscode": {
   "interpreter": {
    "hash": "53a33aba5d556573efe698e4f24a06c237eaec573801e5662fdc22c91166d09e"
   }
  }
 },
 "nbformat": 4,
 "nbformat_minor": 2
}
